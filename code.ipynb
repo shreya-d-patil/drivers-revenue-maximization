{
  "cells": [
    {
      "cell_type": "markdown",
      "id": "af9c1a45-65b0-44fd-8098-eccc5797ed8d",
      "metadata": {
        "id": "af9c1a45-65b0-44fd-8098-eccc5797ed8d"
      },
      "source": [
        "# **Maximizing revenue for taxi cab drivers through payment type analysis**"
      ]
    },
    {
      "cell_type": "markdown",
      "id": "ec1a6387-a165-4fe4-9a33-36fc3a4f1cc9",
      "metadata": {
        "id": "ec1a6387-a165-4fe4-9a33-36fc3a4f1cc9"
      },
      "source": [
        "# **Problem statement**"
      ]
    },
    {
      "cell_type": "markdown",
      "id": "WBCwoglwjho0",
      "metadata": {
        "id": "WBCwoglwjho0"
      },
      "source": [
        "***In the fast-paced taxi booking sector, making the most of revenue is essential for long-term success and driver happiness. Our goal is to use data-driven insights to maximise revenue streams for taxi drivers in order to meet this need. Our research aims to determine whether payment methods have an impact on fare pricing by focusing on the relationship between payment type and fare amount.***"
      ]
    },
    {
      "cell_type": "markdown",
      "id": "a6f19590-b36f-4283-84ae-454b78d935aa",
      "metadata": {
        "id": "a6f19590-b36f-4283-84ae-454b78d935aa"
      },
      "source": [
        "# **Objective**"
      ]
    },
    {
      "cell_type": "markdown",
      "id": "9b8e011b-42e8-414d-8e32-0865ceee86f2",
      "metadata": {
        "id": "9b8e011b-42e8-414d-8e32-0865ceee86f2"
      },
      "source": [
        "***This project's main goal is to run an A/B to examine the relationship between the total fare and the method of payment. we use python hypothesis testing and descriptiive statistics to extract useful information that can help taxi drivers generate more cash. in particular,we want to find out if there is a big difference in the fares for those who pay with credits cards versus those who pay via cash***"
      ]
    },
    {
      "cell_type": "markdown",
      "id": "6a1d09b2-5959-4c15-8b1d-6287a036c011",
      "metadata": {
        "id": "6a1d09b2-5959-4c15-8b1d-6287a036c011"
      },
      "source": [
        "# **Research Question**"
      ]
    },
    {
      "cell_type": "markdown",
      "id": "9db5df25-5dee-4b3c-9b08-0ef0280bd0bd",
      "metadata": {
        "id": "9db5df25-5dee-4b3c-9b08-0ef0280bd0bd"
      },
      "source": [
        "***Is there a relationship between total fare amount and payment type and can we nudge customers towards payment methods that generate higher revenue for drivers,without negatively impacting customer experience?***"
      ]
    },
    {
      "cell_type": "markdown",
      "id": "356efe47-439c-4691-9da0-8e930e077ceb",
      "metadata": {
        "id": "356efe47-439c-4691-9da0-8e930e077ceb"
      },
      "source": [
        "# **Importing libraries**"
      ]
    },
    {
      "cell_type": "code",
      "execution_count": null,
      "id": "d5e0daa6-2670-4dd9-88bc-5636b9e93efe",
      "metadata": {
        "id": "d5e0daa6-2670-4dd9-88bc-5636b9e93efe"
      },
      "outputs": [],
      "source": [
        "import pandas as pd\n",
        "import matplotlib.pyplot as plt\n",
        "import seaborn as sns\n",
        "import scipy.stats as st\n",
        "import statsmodels.api as sm\n",
        "import warnings\n",
        "warnings.filterwarnings('ignore')"
      ]
    },
    {
      "cell_type": "markdown",
      "id": "c36902b2-26fd-4ee4-8455-0bf0adb1c0e0",
      "metadata": {
        "id": "c36902b2-26fd-4ee4-8455-0bf0adb1c0e0"
      },
      "source": [
        "***Loading Data set***"
      ]
    },
    {
      "cell_type": "code",
      "execution_count": null,
      "id": "46d473c4-a027-40c4-b86f-7da9f88e36f5",
      "metadata": {
        "id": "46d473c4-a027-40c4-b86f-7da9f88e36f5"
      },
      "outputs": [],
      "source": [
        "df=pd.read_csv('yellow_tripdata_2020-01.csv')"
      ]
    },
    {
      "cell_type": "code",
      "execution_count": null,
      "id": "fabe757c-9dbd-4af2-913a-f4c1b7619c02",
      "metadata": {
        "colab": {
          "base_uri": "https://localhost:8080/",
          "height": 226
        },
        "id": "fabe757c-9dbd-4af2-913a-f4c1b7619c02",
        "outputId": "455479b9-c616-4c6a-cbb2-cce6a1b164cd"
      },
      "outputs": [
        {
          "data": {
            "text/html": [
              "<div>\n",
              "<style scoped>\n",
              "    .dataframe tbody tr th:only-of-type {\n",
              "        vertical-align: middle;\n",
              "    }\n",
              "\n",
              "    .dataframe tbody tr th {\n",
              "        vertical-align: top;\n",
              "    }\n",
              "\n",
              "    .dataframe thead th {\n",
              "        text-align: right;\n",
              "    }\n",
              "</style>\n",
              "<table border=\"1\" class=\"dataframe\">\n",
              "  <thead>\n",
              "    <tr style=\"text-align: right;\">\n",
              "      <th></th>\n",
              "      <th>VendorID</th>\n",
              "      <th>tpep_pickup_datetime</th>\n",
              "      <th>tpep_dropoff_datetime</th>\n",
              "      <th>passenger_count</th>\n",
              "      <th>trip_distance</th>\n",
              "      <th>RatecodeID</th>\n",
              "      <th>store_and_fwd_flag</th>\n",
              "      <th>PULocationID</th>\n",
              "      <th>DOLocationID</th>\n",
              "      <th>payment_type</th>\n",
              "      <th>fare_amount</th>\n",
              "      <th>extra</th>\n",
              "      <th>mta_tax</th>\n",
              "      <th>tip_amount</th>\n",
              "      <th>tolls_amount</th>\n",
              "      <th>improvement_surcharge</th>\n",
              "      <th>total_amount</th>\n",
              "      <th>congestion_surcharge</th>\n",
              "    </tr>\n",
              "  </thead>\n",
              "  <tbody>\n",
              "    <tr>\n",
              "      <th>0</th>\n",
              "      <td>1.0</td>\n",
              "      <td>2020-01-01 00:28:15</td>\n",
              "      <td>2020-01-01 00:33:03</td>\n",
              "      <td>1.0</td>\n",
              "      <td>1.2</td>\n",
              "      <td>1.0</td>\n",
              "      <td>N</td>\n",
              "      <td>238</td>\n",
              "      <td>239</td>\n",
              "      <td>1.0</td>\n",
              "      <td>6.0</td>\n",
              "      <td>3.0</td>\n",
              "      <td>0.5</td>\n",
              "      <td>1.47</td>\n",
              "      <td>0.0</td>\n",
              "      <td>0.3</td>\n",
              "      <td>11.27</td>\n",
              "      <td>2.5</td>\n",
              "    </tr>\n",
              "    <tr>\n",
              "      <th>1</th>\n",
              "      <td>1.0</td>\n",
              "      <td>2020-01-01 00:35:39</td>\n",
              "      <td>2020-01-01 00:43:04</td>\n",
              "      <td>1.0</td>\n",
              "      <td>1.2</td>\n",
              "      <td>1.0</td>\n",
              "      <td>N</td>\n",
              "      <td>239</td>\n",
              "      <td>238</td>\n",
              "      <td>1.0</td>\n",
              "      <td>7.0</td>\n",
              "      <td>3.0</td>\n",
              "      <td>0.5</td>\n",
              "      <td>1.50</td>\n",
              "      <td>0.0</td>\n",
              "      <td>0.3</td>\n",
              "      <td>12.30</td>\n",
              "      <td>2.5</td>\n",
              "    </tr>\n",
              "    <tr>\n",
              "      <th>2</th>\n",
              "      <td>1.0</td>\n",
              "      <td>2020-01-01 00:47:41</td>\n",
              "      <td>2020-01-01 00:53:52</td>\n",
              "      <td>1.0</td>\n",
              "      <td>0.6</td>\n",
              "      <td>1.0</td>\n",
              "      <td>N</td>\n",
              "      <td>238</td>\n",
              "      <td>238</td>\n",
              "      <td>1.0</td>\n",
              "      <td>6.0</td>\n",
              "      <td>3.0</td>\n",
              "      <td>0.5</td>\n",
              "      <td>1.00</td>\n",
              "      <td>0.0</td>\n",
              "      <td>0.3</td>\n",
              "      <td>10.80</td>\n",
              "      <td>2.5</td>\n",
              "    </tr>\n",
              "    <tr>\n",
              "      <th>3</th>\n",
              "      <td>1.0</td>\n",
              "      <td>2020-01-01 00:55:23</td>\n",
              "      <td>2020-01-01 01:00:14</td>\n",
              "      <td>1.0</td>\n",
              "      <td>0.8</td>\n",
              "      <td>1.0</td>\n",
              "      <td>N</td>\n",
              "      <td>238</td>\n",
              "      <td>151</td>\n",
              "      <td>1.0</td>\n",
              "      <td>5.5</td>\n",
              "      <td>0.5</td>\n",
              "      <td>0.5</td>\n",
              "      <td>1.36</td>\n",
              "      <td>0.0</td>\n",
              "      <td>0.3</td>\n",
              "      <td>8.16</td>\n",
              "      <td>0.0</td>\n",
              "    </tr>\n",
              "    <tr>\n",
              "      <th>4</th>\n",
              "      <td>2.0</td>\n",
              "      <td>2020-01-01 00:01:58</td>\n",
              "      <td>2020-01-01 00:04:16</td>\n",
              "      <td>1.0</td>\n",
              "      <td>0.0</td>\n",
              "      <td>1.0</td>\n",
              "      <td>N</td>\n",
              "      <td>193</td>\n",
              "      <td>193</td>\n",
              "      <td>2.0</td>\n",
              "      <td>3.5</td>\n",
              "      <td>0.5</td>\n",
              "      <td>0.5</td>\n",
              "      <td>0.00</td>\n",
              "      <td>0.0</td>\n",
              "      <td>0.3</td>\n",
              "      <td>4.80</td>\n",
              "      <td>0.0</td>\n",
              "    </tr>\n",
              "  </tbody>\n",
              "</table>\n",
              "</div>"
            ],
            "text/plain": [
              "   VendorID tpep_pickup_datetime tpep_dropoff_datetime  passenger_count  \\\n",
              "0       1.0  2020-01-01 00:28:15   2020-01-01 00:33:03              1.0   \n",
              "1       1.0  2020-01-01 00:35:39   2020-01-01 00:43:04              1.0   \n",
              "2       1.0  2020-01-01 00:47:41   2020-01-01 00:53:52              1.0   \n",
              "3       1.0  2020-01-01 00:55:23   2020-01-01 01:00:14              1.0   \n",
              "4       2.0  2020-01-01 00:01:58   2020-01-01 00:04:16              1.0   \n",
              "\n",
              "   trip_distance  RatecodeID store_and_fwd_flag  PULocationID  DOLocationID  \\\n",
              "0            1.2         1.0                  N           238           239   \n",
              "1            1.2         1.0                  N           239           238   \n",
              "2            0.6         1.0                  N           238           238   \n",
              "3            0.8         1.0                  N           238           151   \n",
              "4            0.0         1.0                  N           193           193   \n",
              "\n",
              "   payment_type  fare_amount  extra  mta_tax  tip_amount  tolls_amount  \\\n",
              "0           1.0          6.0    3.0      0.5        1.47           0.0   \n",
              "1           1.0          7.0    3.0      0.5        1.50           0.0   \n",
              "2           1.0          6.0    3.0      0.5        1.00           0.0   \n",
              "3           1.0          5.5    0.5      0.5        1.36           0.0   \n",
              "4           2.0          3.5    0.5      0.5        0.00           0.0   \n",
              "\n",
              "   improvement_surcharge  total_amount  congestion_surcharge  \n",
              "0                    0.3         11.27                   2.5  \n",
              "1                    0.3         12.30                   2.5  \n",
              "2                    0.3         10.80                   2.5  \n",
              "3                    0.3          8.16                   0.0  \n",
              "4                    0.3          4.80                   0.0  "
            ]
          },
          "execution_count": 3,
          "metadata": {},
          "output_type": "execute_result"
        }
      ],
      "source": [
        "df.head()"
      ]
    },
    {
      "cell_type": "markdown",
      "id": "bd45e62d-837d-4e70-920e-a4774ac1de8c",
      "metadata": {
        "id": "bd45e62d-837d-4e70-920e-a4774ac1de8c"
      },
      "source": [
        "# **EXPLORATORY DATA ANALYSIS**"
      ]
    },
    {
      "cell_type": "code",
      "execution_count": null,
      "id": "43630aef-b249-4d36-bdaa-8d0e92978af5",
      "metadata": {
        "colab": {
          "base_uri": "https://localhost:8080/"
        },
        "id": "43630aef-b249-4d36-bdaa-8d0e92978af5",
        "outputId": "f5798538-380b-4e77-f5d2-8c4d66fa5139"
      },
      "outputs": [
        {
          "data": {
            "text/plain": [
              "(6405008, 18)"
            ]
          },
          "execution_count": 4,
          "metadata": {},
          "output_type": "execute_result"
        }
      ],
      "source": [
        "# how many records present in our dataset\n",
        "df.shape"
      ]
    },
    {
      "cell_type": "markdown",
      "id": "e0975c8a-8eda-400f-8875-b13f872e2709",
      "metadata": {
        "id": "e0975c8a-8eda-400f-8875-b13f872e2709"
      },
      "source": [
        "now we will see is there any feature which can be used for the analysis/which can effect payment type or fare amount, and if not present can we make that using our data set\n",
        "\n",
        "Duration can be used and can play a role in analysis"
      ]
    },
    {
      "cell_type": "code",
      "execution_count": null,
      "id": "4167b29f-b3bd-4af0-af4a-5aecece9923c",
      "metadata": {
        "colab": {
          "base_uri": "https://localhost:8080/",
          "height": 648
        },
        "id": "4167b29f-b3bd-4af0-af4a-5aecece9923c",
        "outputId": "159986c2-fdaf-4f0c-9363-3d21bcd9434f"
      },
      "outputs": [
        {
          "data": {
            "text/plain": [
              "VendorID                 float64\n",
              "tpep_pickup_datetime      object\n",
              "tpep_dropoff_datetime     object\n",
              "passenger_count          float64\n",
              "trip_distance            float64\n",
              "RatecodeID               float64\n",
              "store_and_fwd_flag        object\n",
              "PULocationID               int64\n",
              "DOLocationID               int64\n",
              "payment_type             float64\n",
              "fare_amount              float64\n",
              "extra                    float64\n",
              "mta_tax                  float64\n",
              "tip_amount               float64\n",
              "tolls_amount             float64\n",
              "improvement_surcharge    float64\n",
              "total_amount             float64\n",
              "congestion_surcharge     float64\n",
              "dtype: object"
            ]
          },
          "execution_count": 5,
          "metadata": {},
          "output_type": "execute_result"
        }
      ],
      "source": [
        "df.dtypes"
      ]
    },
    {
      "cell_type": "markdown",
      "id": "86abd27f-33bf-4155-9632-27243200ceea",
      "metadata": {
        "id": "86abd27f-33bf-4155-9632-27243200ceea"
      },
      "source": [
        "**now for duration we can see we need pickup and drop off time , and these are in object so we need to conver dtype object to datetime**"
      ]
    },
    {
      "cell_type": "code",
      "execution_count": null,
      "id": "a4ba70d3-81f1-49a4-a9be-f0cd903ed6e0",
      "metadata": {
        "id": "a4ba70d3-81f1-49a4-a9be-f0cd903ed6e0"
      },
      "outputs": [],
      "source": [
        "df['tpep_pickup_datetime'] = pd.to_datetime(df['tpep_pickup_datetime'])\n",
        "df['tpep_dropoff_datetime'] = pd.to_datetime(df['tpep_dropoff_datetime'])"
      ]
    },
    {
      "cell_type": "code",
      "execution_count": null,
      "id": "712f9b17-0d38-4367-bce6-dbdeb5241ec4",
      "metadata": {
        "id": "712f9b17-0d38-4367-bce6-dbdeb5241ec4"
      },
      "outputs": [],
      "source": [
        "# we can see columns converted into datetime\n",
        "df.dtypes"
      ]
    },
    {
      "cell_type": "code",
      "execution_count": null,
      "id": "233e501d-a769-40da-a5e8-b893b0fce775",
      "metadata": {
        "id": "233e501d-a769-40da-a5e8-b893b0fce775"
      },
      "outputs": [],
      "source": [
        "# now duration will be drop time - pickup time and will be stored in a new column duration\n",
        "df['duration']=df['tpep_dropoff_datetime']-df['tpep_pickup_datetime']"
      ]
    },
    {
      "cell_type": "code",
      "execution_count": null,
      "id": "61b260cf-3c34-4688-a558-885710ef15b1",
      "metadata": {
        "id": "61b260cf-3c34-4688-a558-885710ef15b1"
      },
      "outputs": [],
      "source": [
        "df"
      ]
    },
    {
      "cell_type": "markdown",
      "id": "c01967c3-7e4b-4c3b-ad4b-5a539d35cf4e",
      "metadata": {
        "id": "c01967c3-7e4b-4c3b-ad4b-5a539d35cf4e"
      },
      "source": [
        "**Now we can see that duration column is according to days and time, which will not provide any specific information\n",
        "for this we will convert our data into seconds and will divide it by 60, so we will get data in minutes**"
      ]
    },
    {
      "cell_type": "code",
      "execution_count": null,
      "id": "e0c57a46-7a63-441d-902c-4f9bf60101c4",
      "metadata": {
        "id": "e0c57a46-7a63-441d-902c-4f9bf60101c4"
      },
      "outputs": [],
      "source": [
        "df['duration'] = df['duration'].dt.total_seconds()/60"
      ]
    },
    {
      "cell_type": "code",
      "execution_count": null,
      "id": "d3023063-0a95-4e1d-985c-f3a565fd30fa",
      "metadata": {
        "colab": {
          "base_uri": "https://localhost:8080/",
          "height": 443
        },
        "id": "d3023063-0a95-4e1d-985c-f3a565fd30fa",
        "outputId": "68556692-7c17-4a03-bdb3-f4a603a98475"
      },
      "outputs": [
        {
          "data": {
            "text/html": [
              "<div>\n",
              "<style scoped>\n",
              "    .dataframe tbody tr th:only-of-type {\n",
              "        vertical-align: middle;\n",
              "    }\n",
              "\n",
              "    .dataframe tbody tr th {\n",
              "        vertical-align: top;\n",
              "    }\n",
              "\n",
              "    .dataframe thead th {\n",
              "        text-align: right;\n",
              "    }\n",
              "</style>\n",
              "<table border=\"1\" class=\"dataframe\">\n",
              "  <thead>\n",
              "    <tr style=\"text-align: right;\">\n",
              "      <th></th>\n",
              "      <th>VendorID</th>\n",
              "      <th>tpep_pickup_datetime</th>\n",
              "      <th>tpep_dropoff_datetime</th>\n",
              "      <th>passenger_count</th>\n",
              "      <th>trip_distance</th>\n",
              "      <th>RatecodeID</th>\n",
              "      <th>store_and_fwd_flag</th>\n",
              "      <th>PULocationID</th>\n",
              "      <th>DOLocationID</th>\n",
              "      <th>payment_type</th>\n",
              "      <th>fare_amount</th>\n",
              "      <th>extra</th>\n",
              "      <th>mta_tax</th>\n",
              "      <th>tip_amount</th>\n",
              "      <th>tolls_amount</th>\n",
              "      <th>improvement_surcharge</th>\n",
              "      <th>total_amount</th>\n",
              "      <th>congestion_surcharge</th>\n",
              "      <th>duration</th>\n",
              "    </tr>\n",
              "  </thead>\n",
              "  <tbody>\n",
              "    <tr>\n",
              "      <th>0</th>\n",
              "      <td>1.0</td>\n",
              "      <td>2020-01-01 00:28:15</td>\n",
              "      <td>2020-01-01 00:33:03</td>\n",
              "      <td>1.0</td>\n",
              "      <td>1.20</td>\n",
              "      <td>1.0</td>\n",
              "      <td>N</td>\n",
              "      <td>238</td>\n",
              "      <td>239</td>\n",
              "      <td>1.0</td>\n",
              "      <td>6.00</td>\n",
              "      <td>3.00</td>\n",
              "      <td>0.5</td>\n",
              "      <td>1.47</td>\n",
              "      <td>0.00</td>\n",
              "      <td>0.3</td>\n",
              "      <td>11.27</td>\n",
              "      <td>2.5</td>\n",
              "      <td>4.800000</td>\n",
              "    </tr>\n",
              "    <tr>\n",
              "      <th>1</th>\n",
              "      <td>1.0</td>\n",
              "      <td>2020-01-01 00:35:39</td>\n",
              "      <td>2020-01-01 00:43:04</td>\n",
              "      <td>1.0</td>\n",
              "      <td>1.20</td>\n",
              "      <td>1.0</td>\n",
              "      <td>N</td>\n",
              "      <td>239</td>\n",
              "      <td>238</td>\n",
              "      <td>1.0</td>\n",
              "      <td>7.00</td>\n",
              "      <td>3.00</td>\n",
              "      <td>0.5</td>\n",
              "      <td>1.50</td>\n",
              "      <td>0.00</td>\n",
              "      <td>0.3</td>\n",
              "      <td>12.30</td>\n",
              "      <td>2.5</td>\n",
              "      <td>7.416667</td>\n",
              "    </tr>\n",
              "    <tr>\n",
              "      <th>2</th>\n",
              "      <td>1.0</td>\n",
              "      <td>2020-01-01 00:47:41</td>\n",
              "      <td>2020-01-01 00:53:52</td>\n",
              "      <td>1.0</td>\n",
              "      <td>0.60</td>\n",
              "      <td>1.0</td>\n",
              "      <td>N</td>\n",
              "      <td>238</td>\n",
              "      <td>238</td>\n",
              "      <td>1.0</td>\n",
              "      <td>6.00</td>\n",
              "      <td>3.00</td>\n",
              "      <td>0.5</td>\n",
              "      <td>1.00</td>\n",
              "      <td>0.00</td>\n",
              "      <td>0.3</td>\n",
              "      <td>10.80</td>\n",
              "      <td>2.5</td>\n",
              "      <td>6.183333</td>\n",
              "    </tr>\n",
              "    <tr>\n",
              "      <th>3</th>\n",
              "      <td>1.0</td>\n",
              "      <td>2020-01-01 00:55:23</td>\n",
              "      <td>2020-01-01 01:00:14</td>\n",
              "      <td>1.0</td>\n",
              "      <td>0.80</td>\n",
              "      <td>1.0</td>\n",
              "      <td>N</td>\n",
              "      <td>238</td>\n",
              "      <td>151</td>\n",
              "      <td>1.0</td>\n",
              "      <td>5.50</td>\n",
              "      <td>0.50</td>\n",
              "      <td>0.5</td>\n",
              "      <td>1.36</td>\n",
              "      <td>0.00</td>\n",
              "      <td>0.3</td>\n",
              "      <td>8.16</td>\n",
              "      <td>0.0</td>\n",
              "      <td>4.850000</td>\n",
              "    </tr>\n",
              "    <tr>\n",
              "      <th>4</th>\n",
              "      <td>2.0</td>\n",
              "      <td>2020-01-01 00:01:58</td>\n",
              "      <td>2020-01-01 00:04:16</td>\n",
              "      <td>1.0</td>\n",
              "      <td>0.00</td>\n",
              "      <td>1.0</td>\n",
              "      <td>N</td>\n",
              "      <td>193</td>\n",
              "      <td>193</td>\n",
              "      <td>2.0</td>\n",
              "      <td>3.50</td>\n",
              "      <td>0.50</td>\n",
              "      <td>0.5</td>\n",
              "      <td>0.00</td>\n",
              "      <td>0.00</td>\n",
              "      <td>0.3</td>\n",
              "      <td>4.80</td>\n",
              "      <td>0.0</td>\n",
              "      <td>2.300000</td>\n",
              "    </tr>\n",
              "    <tr>\n",
              "      <th>...</th>\n",
              "      <td>...</td>\n",
              "      <td>...</td>\n",
              "      <td>...</td>\n",
              "      <td>...</td>\n",
              "      <td>...</td>\n",
              "      <td>...</td>\n",
              "      <td>...</td>\n",
              "      <td>...</td>\n",
              "      <td>...</td>\n",
              "      <td>...</td>\n",
              "      <td>...</td>\n",
              "      <td>...</td>\n",
              "      <td>...</td>\n",
              "      <td>...</td>\n",
              "      <td>...</td>\n",
              "      <td>...</td>\n",
              "      <td>...</td>\n",
              "      <td>...</td>\n",
              "      <td>...</td>\n",
              "    </tr>\n",
              "    <tr>\n",
              "      <th>6405003</th>\n",
              "      <td>NaN</td>\n",
              "      <td>2020-01-31 22:51:00</td>\n",
              "      <td>2020-01-31 23:22:00</td>\n",
              "      <td>NaN</td>\n",
              "      <td>3.24</td>\n",
              "      <td>NaN</td>\n",
              "      <td>NaN</td>\n",
              "      <td>237</td>\n",
              "      <td>234</td>\n",
              "      <td>NaN</td>\n",
              "      <td>17.59</td>\n",
              "      <td>2.75</td>\n",
              "      <td>0.5</td>\n",
              "      <td>0.00</td>\n",
              "      <td>0.00</td>\n",
              "      <td>0.3</td>\n",
              "      <td>21.14</td>\n",
              "      <td>0.0</td>\n",
              "      <td>31.000000</td>\n",
              "    </tr>\n",
              "    <tr>\n",
              "      <th>6405004</th>\n",
              "      <td>NaN</td>\n",
              "      <td>2020-01-31 22:10:00</td>\n",
              "      <td>2020-01-31 23:26:00</td>\n",
              "      <td>NaN</td>\n",
              "      <td>22.13</td>\n",
              "      <td>NaN</td>\n",
              "      <td>NaN</td>\n",
              "      <td>259</td>\n",
              "      <td>45</td>\n",
              "      <td>NaN</td>\n",
              "      <td>46.67</td>\n",
              "      <td>2.75</td>\n",
              "      <td>0.5</td>\n",
              "      <td>0.00</td>\n",
              "      <td>12.24</td>\n",
              "      <td>0.3</td>\n",
              "      <td>62.46</td>\n",
              "      <td>0.0</td>\n",
              "      <td>76.000000</td>\n",
              "    </tr>\n",
              "    <tr>\n",
              "      <th>6405005</th>\n",
              "      <td>NaN</td>\n",
              "      <td>2020-01-31 22:50:07</td>\n",
              "      <td>2020-01-31 23:17:57</td>\n",
              "      <td>NaN</td>\n",
              "      <td>10.51</td>\n",
              "      <td>NaN</td>\n",
              "      <td>NaN</td>\n",
              "      <td>137</td>\n",
              "      <td>169</td>\n",
              "      <td>NaN</td>\n",
              "      <td>48.85</td>\n",
              "      <td>2.75</td>\n",
              "      <td>0.0</td>\n",
              "      <td>0.00</td>\n",
              "      <td>0.00</td>\n",
              "      <td>0.3</td>\n",
              "      <td>51.90</td>\n",
              "      <td>0.0</td>\n",
              "      <td>27.833333</td>\n",
              "    </tr>\n",
              "    <tr>\n",
              "      <th>6405006</th>\n",
              "      <td>NaN</td>\n",
              "      <td>2020-01-31 22:25:53</td>\n",
              "      <td>2020-01-31 22:48:32</td>\n",
              "      <td>NaN</td>\n",
              "      <td>5.49</td>\n",
              "      <td>NaN</td>\n",
              "      <td>NaN</td>\n",
              "      <td>50</td>\n",
              "      <td>42</td>\n",
              "      <td>NaN</td>\n",
              "      <td>27.17</td>\n",
              "      <td>2.75</td>\n",
              "      <td>0.0</td>\n",
              "      <td>0.00</td>\n",
              "      <td>0.00</td>\n",
              "      <td>0.3</td>\n",
              "      <td>30.22</td>\n",
              "      <td>0.0</td>\n",
              "      <td>22.650000</td>\n",
              "    </tr>\n",
              "    <tr>\n",
              "      <th>6405007</th>\n",
              "      <td>NaN</td>\n",
              "      <td>2020-01-31 22:44:00</td>\n",
              "      <td>2020-01-31 23:06:00</td>\n",
              "      <td>NaN</td>\n",
              "      <td>11.60</td>\n",
              "      <td>NaN</td>\n",
              "      <td>NaN</td>\n",
              "      <td>179</td>\n",
              "      <td>205</td>\n",
              "      <td>NaN</td>\n",
              "      <td>54.56</td>\n",
              "      <td>2.75</td>\n",
              "      <td>0.5</td>\n",
              "      <td>0.00</td>\n",
              "      <td>0.00</td>\n",
              "      <td>0.3</td>\n",
              "      <td>58.11</td>\n",
              "      <td>0.0</td>\n",
              "      <td>22.000000</td>\n",
              "    </tr>\n",
              "  </tbody>\n",
              "</table>\n",
              "<p>6405008 rows × 19 columns</p>\n",
              "</div>"
            ],
            "text/plain": [
              "         VendorID tpep_pickup_datetime tpep_dropoff_datetime  passenger_count  \\\n",
              "0             1.0  2020-01-01 00:28:15   2020-01-01 00:33:03              1.0   \n",
              "1             1.0  2020-01-01 00:35:39   2020-01-01 00:43:04              1.0   \n",
              "2             1.0  2020-01-01 00:47:41   2020-01-01 00:53:52              1.0   \n",
              "3             1.0  2020-01-01 00:55:23   2020-01-01 01:00:14              1.0   \n",
              "4             2.0  2020-01-01 00:01:58   2020-01-01 00:04:16              1.0   \n",
              "...           ...                  ...                   ...              ...   \n",
              "6405003       NaN  2020-01-31 22:51:00   2020-01-31 23:22:00              NaN   \n",
              "6405004       NaN  2020-01-31 22:10:00   2020-01-31 23:26:00              NaN   \n",
              "6405005       NaN  2020-01-31 22:50:07   2020-01-31 23:17:57              NaN   \n",
              "6405006       NaN  2020-01-31 22:25:53   2020-01-31 22:48:32              NaN   \n",
              "6405007       NaN  2020-01-31 22:44:00   2020-01-31 23:06:00              NaN   \n",
              "\n",
              "         trip_distance  RatecodeID store_and_fwd_flag  PULocationID  \\\n",
              "0                 1.20         1.0                  N           238   \n",
              "1                 1.20         1.0                  N           239   \n",
              "2                 0.60         1.0                  N           238   \n",
              "3                 0.80         1.0                  N           238   \n",
              "4                 0.00         1.0                  N           193   \n",
              "...                ...         ...                ...           ...   \n",
              "6405003           3.24         NaN                NaN           237   \n",
              "6405004          22.13         NaN                NaN           259   \n",
              "6405005          10.51         NaN                NaN           137   \n",
              "6405006           5.49         NaN                NaN            50   \n",
              "6405007          11.60         NaN                NaN           179   \n",
              "\n",
              "         DOLocationID  payment_type  fare_amount  extra  mta_tax  tip_amount  \\\n",
              "0                 239           1.0         6.00   3.00      0.5        1.47   \n",
              "1                 238           1.0         7.00   3.00      0.5        1.50   \n",
              "2                 238           1.0         6.00   3.00      0.5        1.00   \n",
              "3                 151           1.0         5.50   0.50      0.5        1.36   \n",
              "4                 193           2.0         3.50   0.50      0.5        0.00   \n",
              "...               ...           ...          ...    ...      ...         ...   \n",
              "6405003           234           NaN        17.59   2.75      0.5        0.00   \n",
              "6405004            45           NaN        46.67   2.75      0.5        0.00   \n",
              "6405005           169           NaN        48.85   2.75      0.0        0.00   \n",
              "6405006            42           NaN        27.17   2.75      0.0        0.00   \n",
              "6405007           205           NaN        54.56   2.75      0.5        0.00   \n",
              "\n",
              "         tolls_amount  improvement_surcharge  total_amount  \\\n",
              "0                0.00                    0.3         11.27   \n",
              "1                0.00                    0.3         12.30   \n",
              "2                0.00                    0.3         10.80   \n",
              "3                0.00                    0.3          8.16   \n",
              "4                0.00                    0.3          4.80   \n",
              "...               ...                    ...           ...   \n",
              "6405003          0.00                    0.3         21.14   \n",
              "6405004         12.24                    0.3         62.46   \n",
              "6405005          0.00                    0.3         51.90   \n",
              "6405006          0.00                    0.3         30.22   \n",
              "6405007          0.00                    0.3         58.11   \n",
              "\n",
              "         congestion_surcharge   duration  \n",
              "0                         2.5   4.800000  \n",
              "1                         2.5   7.416667  \n",
              "2                         2.5   6.183333  \n",
              "3                         0.0   4.850000  \n",
              "4                         0.0   2.300000  \n",
              "...                       ...        ...  \n",
              "6405003                   0.0  31.000000  \n",
              "6405004                   0.0  76.000000  \n",
              "6405005                   0.0  27.833333  \n",
              "6405006                   0.0  22.650000  \n",
              "6405007                   0.0  22.000000  \n",
              "\n",
              "[6405008 rows x 19 columns]"
            ]
          },
          "execution_count": 10,
          "metadata": {},
          "output_type": "execute_result"
        }
      ],
      "source": [
        "# now we can see duration columns in minutes\n",
        "df"
      ]
    },
    {
      "cell_type": "markdown",
      "id": "dc74feb3-f68c-464f-af91-ba8fca7d2a95",
      "metadata": {
        "id": "dc74feb3-f68c-464f-af91-ba8fca7d2a95"
      },
      "source": [
        "***now we will do analysis only on the columns which are useful/required for the analysis like\n",
        "passenger count = what payment type for group or for single or for couple based on numbers\n",
        "Payment_type = card/cash/wallet like all\n",
        "fare_amount  =\n",
        "trip_distance =\n",
        "duration =***"
      ]
    },
    {
      "cell_type": "code",
      "execution_count": null,
      "id": "a3024208-3569-4fe9-b7d6-31452c14a432",
      "metadata": {
        "id": "a3024208-3569-4fe9-b7d6-31452c14a432"
      },
      "outputs": [],
      "source": [
        "df=df[['passenger_count','payment_type','fare_amount','trip_distance','duration']]"
      ]
    },
    {
      "cell_type": "code",
      "execution_count": null,
      "id": "e30051c9-6345-4ecc-9d05-a2c9a58e27c7",
      "metadata": {
        "colab": {
          "base_uri": "https://localhost:8080/",
          "height": 423
        },
        "id": "e30051c9-6345-4ecc-9d05-a2c9a58e27c7",
        "outputId": "d7051b9a-ef29-45cb-d502-339194c5aa73"
      },
      "outputs": [
        {
          "data": {
            "text/html": [
              "<div>\n",
              "<style scoped>\n",
              "    .dataframe tbody tr th:only-of-type {\n",
              "        vertical-align: middle;\n",
              "    }\n",
              "\n",
              "    .dataframe tbody tr th {\n",
              "        vertical-align: top;\n",
              "    }\n",
              "\n",
              "    .dataframe thead th {\n",
              "        text-align: right;\n",
              "    }\n",
              "</style>\n",
              "<table border=\"1\" class=\"dataframe\">\n",
              "  <thead>\n",
              "    <tr style=\"text-align: right;\">\n",
              "      <th></th>\n",
              "      <th>passenger_count</th>\n",
              "      <th>payment_type</th>\n",
              "      <th>fare_amount</th>\n",
              "      <th>trip_distance</th>\n",
              "      <th>duration</th>\n",
              "    </tr>\n",
              "  </thead>\n",
              "  <tbody>\n",
              "    <tr>\n",
              "      <th>0</th>\n",
              "      <td>1.0</td>\n",
              "      <td>1.0</td>\n",
              "      <td>6.00</td>\n",
              "      <td>1.20</td>\n",
              "      <td>4.800000</td>\n",
              "    </tr>\n",
              "    <tr>\n",
              "      <th>1</th>\n",
              "      <td>1.0</td>\n",
              "      <td>1.0</td>\n",
              "      <td>7.00</td>\n",
              "      <td>1.20</td>\n",
              "      <td>7.416667</td>\n",
              "    </tr>\n",
              "    <tr>\n",
              "      <th>2</th>\n",
              "      <td>1.0</td>\n",
              "      <td>1.0</td>\n",
              "      <td>6.00</td>\n",
              "      <td>0.60</td>\n",
              "      <td>6.183333</td>\n",
              "    </tr>\n",
              "    <tr>\n",
              "      <th>3</th>\n",
              "      <td>1.0</td>\n",
              "      <td>1.0</td>\n",
              "      <td>5.50</td>\n",
              "      <td>0.80</td>\n",
              "      <td>4.850000</td>\n",
              "    </tr>\n",
              "    <tr>\n",
              "      <th>4</th>\n",
              "      <td>1.0</td>\n",
              "      <td>2.0</td>\n",
              "      <td>3.50</td>\n",
              "      <td>0.00</td>\n",
              "      <td>2.300000</td>\n",
              "    </tr>\n",
              "    <tr>\n",
              "      <th>...</th>\n",
              "      <td>...</td>\n",
              "      <td>...</td>\n",
              "      <td>...</td>\n",
              "      <td>...</td>\n",
              "      <td>...</td>\n",
              "    </tr>\n",
              "    <tr>\n",
              "      <th>6405003</th>\n",
              "      <td>NaN</td>\n",
              "      <td>NaN</td>\n",
              "      <td>17.59</td>\n",
              "      <td>3.24</td>\n",
              "      <td>31.000000</td>\n",
              "    </tr>\n",
              "    <tr>\n",
              "      <th>6405004</th>\n",
              "      <td>NaN</td>\n",
              "      <td>NaN</td>\n",
              "      <td>46.67</td>\n",
              "      <td>22.13</td>\n",
              "      <td>76.000000</td>\n",
              "    </tr>\n",
              "    <tr>\n",
              "      <th>6405005</th>\n",
              "      <td>NaN</td>\n",
              "      <td>NaN</td>\n",
              "      <td>48.85</td>\n",
              "      <td>10.51</td>\n",
              "      <td>27.833333</td>\n",
              "    </tr>\n",
              "    <tr>\n",
              "      <th>6405006</th>\n",
              "      <td>NaN</td>\n",
              "      <td>NaN</td>\n",
              "      <td>27.17</td>\n",
              "      <td>5.49</td>\n",
              "      <td>22.650000</td>\n",
              "    </tr>\n",
              "    <tr>\n",
              "      <th>6405007</th>\n",
              "      <td>NaN</td>\n",
              "      <td>NaN</td>\n",
              "      <td>54.56</td>\n",
              "      <td>11.60</td>\n",
              "      <td>22.000000</td>\n",
              "    </tr>\n",
              "  </tbody>\n",
              "</table>\n",
              "<p>6405008 rows × 5 columns</p>\n",
              "</div>"
            ],
            "text/plain": [
              "         passenger_count  payment_type  fare_amount  trip_distance   duration\n",
              "0                    1.0           1.0         6.00           1.20   4.800000\n",
              "1                    1.0           1.0         7.00           1.20   7.416667\n",
              "2                    1.0           1.0         6.00           0.60   6.183333\n",
              "3                    1.0           1.0         5.50           0.80   4.850000\n",
              "4                    1.0           2.0         3.50           0.00   2.300000\n",
              "...                  ...           ...          ...            ...        ...\n",
              "6405003              NaN           NaN        17.59           3.24  31.000000\n",
              "6405004              NaN           NaN        46.67          22.13  76.000000\n",
              "6405005              NaN           NaN        48.85          10.51  27.833333\n",
              "6405006              NaN           NaN        27.17           5.49  22.650000\n",
              "6405007              NaN           NaN        54.56          11.60  22.000000\n",
              "\n",
              "[6405008 rows x 5 columns]"
            ]
          },
          "execution_count": 12,
          "metadata": {},
          "output_type": "execute_result"
        }
      ],
      "source": [
        "df"
      ]
    },
    {
      "cell_type": "markdown",
      "id": "f8d18980-a0b4-45c8-bad5-4989dddbc663",
      "metadata": {
        "id": "f8d18980-a0b4-45c8-bad5-4989dddbc663"
      },
      "source": [
        "**As we can see that dataset include NAN values which is null, so will very that which column have null values and how many**"
      ]
    },
    {
      "cell_type": "code",
      "execution_count": null,
      "id": "2dbab586-90c0-4088-aa2d-0caa9a21602b",
      "metadata": {
        "colab": {
          "base_uri": "https://localhost:8080/",
          "height": 241
        },
        "id": "2dbab586-90c0-4088-aa2d-0caa9a21602b",
        "outputId": "7861afe8-54de-4aa7-8650-1fa75d7db620"
      },
      "outputs": [
        {
          "data": {
            "text/plain": [
              "passenger_count    65441\n",
              "payment_type       65441\n",
              "fare_amount            0\n",
              "trip_distance          0\n",
              "duration               0\n",
              "dtype: int64"
            ]
          },
          "execution_count": 13,
          "metadata": {},
          "output_type": "execute_result"
        }
      ],
      "source": [
        "df.isnull().sum()"
      ]
    },
    {
      "cell_type": "markdown",
      "id": "67f45e26-54f0-423d-a5eb-c11a4514b893",
      "metadata": {
        "id": "67f45e26-54f0-423d-a5eb-c11a4514b893"
      },
      "source": [
        "# as it is confirmed that passenger count and payment type have nulls\n",
        "\n",
        "# now we have to treat this nulls\n",
        "\n",
        "# but first we have see percentage of theses nulls in dataset, if these nulls are in very less percentage then we will remove it\n",
        "\n",
        "# and if more we will need to trreat it"
      ]
    },
    {
      "cell_type": "code",
      "execution_count": null,
      "id": "39d047dc-f198-40c1-8900-60d1e3a6d801",
      "metadata": {
        "id": "39d047dc-f198-40c1-8900-60d1e3a6d801"
      },
      "outputs": [],
      "source": [
        "# so we have 65441 nulls we will divide it with dataset length and find percentage\n",
        "(65441/len(df))*100"
      ]
    },
    {
      "cell_type": "code",
      "execution_count": null,
      "id": "f989d721-9797-475f-acec-1d1f5f9a1538",
      "metadata": {
        "id": "f989d721-9797-475f-acec-1d1f5f9a1538"
      },
      "outputs": [],
      "source": [
        "as we can see that we have only 1 percent null data\n",
        "\n",
        "so we will remove/drop the null values using dropna function\n"
      ]
    },
    {
      "cell_type": "code",
      "execution_count": null,
      "id": "acbd63b6-c89b-4203-80b3-b9c763975afa",
      "metadata": {
        "id": "acbd63b6-c89b-4203-80b3-b9c763975afa"
      },
      "outputs": [],
      "source": [
        "df.dropna(inplace = True)"
      ]
    },
    {
      "cell_type": "code",
      "execution_count": null,
      "id": "80cd1974-1e3e-43c8-8249-f6e310342399",
      "metadata": {
        "colab": {
          "base_uri": "https://localhost:8080/",
          "height": 241
        },
        "id": "80cd1974-1e3e-43c8-8249-f6e310342399",
        "outputId": "4f75001e-0d38-49ce-c502-cceba347b8ae"
      },
      "outputs": [
        {
          "data": {
            "text/plain": [
              "passenger_count    0\n",
              "payment_type       0\n",
              "fare_amount        0\n",
              "trip_distance      0\n",
              "duration           0\n",
              "dtype: int64"
            ]
          },
          "execution_count": 16,
          "metadata": {},
          "output_type": "execute_result"
        }
      ],
      "source": [
        "# we will check again the nulls and we can see there is no null\n",
        "df.isnull().sum()"
      ]
    },
    {
      "cell_type": "markdown",
      "id": "838ff092-80ca-4722-b080-9afb35cc51df",
      "metadata": {
        "id": "838ff092-80ca-4722-b080-9afb35cc51df"
      },
      "source": [
        "**passenger count and payment type is in float , so will convert it into integer for analysis correctly**"
      ]
    },
    {
      "cell_type": "code",
      "execution_count": null,
      "id": "2c895b67-f526-4012-996c-f432b8ca21e2",
      "metadata": {
        "id": "2c895b67-f526-4012-996c-f432b8ca21e2"
      },
      "outputs": [],
      "source": [
        "df['passenger_count'] = df['passenger_count'].astype('int64')\n",
        "df['payment_type'] = df['payment_type'].astype('int64')"
      ]
    },
    {
      "cell_type": "markdown",
      "id": "44897c2e-7553-4acf-bfdc-18789504ac16",
      "metadata": {
        "id": "44897c2e-7553-4acf-bfdc-18789504ac16"
      },
      "source": [
        "**now we will check duplicates in dataset**"
      ]
    },
    {
      "cell_type": "code",
      "execution_count": null,
      "id": "4e8f9bdb-aa44-4c8e-9673-61fcee623d99",
      "metadata": {
        "colab": {
          "base_uri": "https://localhost:8080/",
          "height": 423
        },
        "id": "4e8f9bdb-aa44-4c8e-9673-61fcee623d99",
        "outputId": "ffab9267-397c-4719-f346-299708f8002d"
      },
      "outputs": [
        {
          "data": {
            "text/html": [
              "<div>\n",
              "<style scoped>\n",
              "    .dataframe tbody tr th:only-of-type {\n",
              "        vertical-align: middle;\n",
              "    }\n",
              "\n",
              "    .dataframe tbody tr th {\n",
              "        vertical-align: top;\n",
              "    }\n",
              "\n",
              "    .dataframe thead th {\n",
              "        text-align: right;\n",
              "    }\n",
              "</style>\n",
              "<table border=\"1\" class=\"dataframe\">\n",
              "  <thead>\n",
              "    <tr style=\"text-align: right;\">\n",
              "      <th></th>\n",
              "      <th>passenger_count</th>\n",
              "      <th>payment_type</th>\n",
              "      <th>fare_amount</th>\n",
              "      <th>trip_distance</th>\n",
              "      <th>duration</th>\n",
              "    </tr>\n",
              "  </thead>\n",
              "  <tbody>\n",
              "    <tr>\n",
              "      <th>2056</th>\n",
              "      <td>1</td>\n",
              "      <td>2</td>\n",
              "      <td>7.0</td>\n",
              "      <td>0.00</td>\n",
              "      <td>0.000000</td>\n",
              "    </tr>\n",
              "    <tr>\n",
              "      <th>2441</th>\n",
              "      <td>1</td>\n",
              "      <td>1</td>\n",
              "      <td>52.0</td>\n",
              "      <td>0.00</td>\n",
              "      <td>0.200000</td>\n",
              "    </tr>\n",
              "    <tr>\n",
              "      <th>2446</th>\n",
              "      <td>2</td>\n",
              "      <td>1</td>\n",
              "      <td>9.5</td>\n",
              "      <td>1.70</td>\n",
              "      <td>13.066667</td>\n",
              "    </tr>\n",
              "    <tr>\n",
              "      <th>2465</th>\n",
              "      <td>1</td>\n",
              "      <td>1</td>\n",
              "      <td>4.0</td>\n",
              "      <td>0.40</td>\n",
              "      <td>3.083333</td>\n",
              "    </tr>\n",
              "    <tr>\n",
              "      <th>3344</th>\n",
              "      <td>1</td>\n",
              "      <td>1</td>\n",
              "      <td>6.0</td>\n",
              "      <td>1.20</td>\n",
              "      <td>5.350000</td>\n",
              "    </tr>\n",
              "    <tr>\n",
              "      <th>...</th>\n",
              "      <td>...</td>\n",
              "      <td>...</td>\n",
              "      <td>...</td>\n",
              "      <td>...</td>\n",
              "      <td>...</td>\n",
              "    </tr>\n",
              "    <tr>\n",
              "      <th>6339558</th>\n",
              "      <td>1</td>\n",
              "      <td>2</td>\n",
              "      <td>8.0</td>\n",
              "      <td>1.63</td>\n",
              "      <td>8.800000</td>\n",
              "    </tr>\n",
              "    <tr>\n",
              "      <th>6339559</th>\n",
              "      <td>1</td>\n",
              "      <td>1</td>\n",
              "      <td>8.5</td>\n",
              "      <td>1.81</td>\n",
              "      <td>8.016667</td>\n",
              "    </tr>\n",
              "    <tr>\n",
              "      <th>6339560</th>\n",
              "      <td>1</td>\n",
              "      <td>2</td>\n",
              "      <td>6.5</td>\n",
              "      <td>0.98</td>\n",
              "      <td>6.900000</td>\n",
              "    </tr>\n",
              "    <tr>\n",
              "      <th>6339562</th>\n",
              "      <td>1</td>\n",
              "      <td>1</td>\n",
              "      <td>11.0</td>\n",
              "      <td>2.10</td>\n",
              "      <td>14.233333</td>\n",
              "    </tr>\n",
              "    <tr>\n",
              "      <th>6339565</th>\n",
              "      <td>1</td>\n",
              "      <td>2</td>\n",
              "      <td>8.5</td>\n",
              "      <td>1.61</td>\n",
              "      <td>9.633333</td>\n",
              "    </tr>\n",
              "  </tbody>\n",
              "</table>\n",
              "<p>3331706 rows × 5 columns</p>\n",
              "</div>"
            ],
            "text/plain": [
              "         passenger_count  payment_type  fare_amount  trip_distance   duration\n",
              "2056                   1             2          7.0           0.00   0.000000\n",
              "2441                   1             1         52.0           0.00   0.200000\n",
              "2446                   2             1          9.5           1.70  13.066667\n",
              "2465                   1             1          4.0           0.40   3.083333\n",
              "3344                   1             1          6.0           1.20   5.350000\n",
              "...                  ...           ...          ...            ...        ...\n",
              "6339558                1             2          8.0           1.63   8.800000\n",
              "6339559                1             1          8.5           1.81   8.016667\n",
              "6339560                1             2          6.5           0.98   6.900000\n",
              "6339562                1             1         11.0           2.10  14.233333\n",
              "6339565                1             2          8.5           1.61   9.633333\n",
              "\n",
              "[3331706 rows x 5 columns]"
            ]
          },
          "execution_count": 18,
          "metadata": {},
          "output_type": "execute_result"
        }
      ],
      "source": [
        "df[df.duplicated()]"
      ]
    },
    {
      "cell_type": "markdown",
      "id": "6965f144-b63d-4d78-83d0-b4b29a2b6b1a",
      "metadata": {
        "id": "6965f144-b63d-4d78-83d0-b4b29a2b6b1a"
      },
      "source": [
        "**we can see that there are duplicates in data set, so we will remove duplicates from data set**"
      ]
    },
    {
      "cell_type": "code",
      "execution_count": null,
      "id": "5c027552-9cab-4d08-a20e-110c7bab803d",
      "metadata": {
        "id": "5c027552-9cab-4d08-a20e-110c7bab803d"
      },
      "outputs": [],
      "source": [
        "df.drop_duplicates(inplace = True)"
      ]
    },
    {
      "cell_type": "code",
      "execution_count": null,
      "id": "ca91bc83-33f9-4c34-ac36-3eeee65e9dae",
      "metadata": {
        "colab": {
          "base_uri": "https://localhost:8080/"
        },
        "id": "ca91bc83-33f9-4c34-ac36-3eeee65e9dae",
        "outputId": "f20bad81-6ec8-4103-be8f-8e7ab62e2f31"
      },
      "outputs": [
        {
          "data": {
            "text/plain": [
              "(3007861, 5)"
            ]
          },
          "execution_count": 20,
          "metadata": {},
          "output_type": "execute_result"
        }
      ],
      "source": [
        "df.shape"
      ]
    },
    {
      "cell_type": "markdown",
      "id": "5cdb6b94-b329-49de-9994-a0d227a94b06",
      "metadata": {
        "id": "5cdb6b94-b329-49de-9994-a0d227a94b06"
      },
      "source": [
        "**now we will see distribution/contribution of passenger count in dataset**"
      ]
    },
    {
      "cell_type": "code",
      "execution_count": null,
      "id": "7b5cf8ca-a85a-4d6d-b784-35eca1557b38",
      "metadata": {
        "colab": {
          "base_uri": "https://localhost:8080/",
          "height": 429
        },
        "id": "7b5cf8ca-a85a-4d6d-b784-35eca1557b38",
        "outputId": "bd063cb3-512c-4f26-bbc9-a7754ce8220e"
      },
      "outputs": [
        {
          "data": {
            "text/plain": [
              "passenger_count\n",
              "1    0.581981\n",
              "2    0.190350\n",
              "3    0.066360\n",
              "5    0.062937\n",
              "6    0.039272\n",
              "4    0.036046\n",
              "0    0.023033\n",
              "7    0.000009\n",
              "9    0.000006\n",
              "8    0.000006\n",
              "Name: proportion, dtype: float64"
            ]
          },
          "execution_count": 21,
          "metadata": {},
          "output_type": "execute_result"
        }
      ],
      "source": [
        "df['passenger_count'].value_counts(normalize=True)\n",
        "# so we can see that passenger count according to number and their contribution percentage"
      ]
    },
    {
      "cell_type": "markdown",
      "id": "e67a754e-04ba-480d-9939-508898773425",
      "metadata": {
        "id": "e67a754e-04ba-480d-9939-508898773425"
      },
      "source": [
        "**in same way now we will see distribution/contribution of Payment type in dataset**"
      ]
    },
    {
      "cell_type": "code",
      "execution_count": null,
      "id": "4db943ce-9ffe-441c-b6e2-84374aeb32b0",
      "metadata": {
        "colab": {
          "base_uri": "https://localhost:8080/",
          "height": 272
        },
        "id": "4db943ce-9ffe-441c-b6e2-84374aeb32b0",
        "outputId": "bd574819-3e51-4fd0-83e6-886ea53605a4"
      },
      "outputs": [
        {
          "data": {
            "text/plain": [
              "payment_type\n",
              "1    6.782670e-01\n",
              "2    3.075731e-01\n",
              "3    8.721480e-03\n",
              "4    5.438084e-03\n",
              "5    3.324622e-07\n",
              "Name: proportion, dtype: float64"
            ]
          },
          "execution_count": 22,
          "metadata": {},
          "output_type": "execute_result"
        }
      ],
      "source": [
        "df['payment_type'].value_counts(normalize=True)\n",
        "# so we can see that Payment type according to number and their contribution percentage"
      ]
    },
    {
      "cell_type": "markdown",
      "id": "facc8082-9191-45b1-8b2b-54723f4f3103",
      "metadata": {
        "id": "facc8082-9191-45b1-8b2b-54723f4f3103"
      },
      "source": [
        "**Here we cann see in both payment type and passenger count only some elements are contributing and some are 0 percent so we will only take the real one and ignore rest\n",
        "--for payment type we will take less than 3\n",
        "--for passenger count we will take less than 6**"
      ]
    },
    {
      "cell_type": "code",
      "execution_count": null,
      "id": "ecf5b863-58d5-451d-9efd-f61dab7d04b4",
      "metadata": {
        "id": "ecf5b863-58d5-451d-9efd-f61dab7d04b4"
      },
      "outputs": [],
      "source": [
        "df = df[df['payment_type']<3]\n",
        "df= df[(df['passenger_count']>0)&(df['passenger_count']<6)]\n"
      ]
    },
    {
      "cell_type": "markdown",
      "id": "d45b17db-a72f-4b34-8281-ad39de1583c5",
      "metadata": {
        "id": "d45b17db-a72f-4b34-8281-ad39de1583c5",
        "outputId": "57e59e75-c603-4b02-827c-8d6cac331063"
      },
      "source": [
        "df.shape"
      ]
    },
    {
      "cell_type": "markdown",
      "id": "ef6f349c-4e6d-49ad-a3b8-7004bcd8c98e",
      "metadata": {
        "id": "ef6f349c-4e6d-49ad-a3b8-7004bcd8c98e"
      },
      "source": [
        "# ** now we will replace 1 and 2 with card cash because we need only card cash in for analysis, because we have only considerd till 3 for payment type**"
      ]
    },
    {
      "cell_type": "code",
      "execution_count": null,
      "id": "78de54f4-1375-47f8-8ed3-9b2f90e92ef5",
      "metadata": {
        "id": "78de54f4-1375-47f8-8ed3-9b2f90e92ef5"
      },
      "outputs": [],
      "source": [
        "df['payment_type'].replace([1,2],['Card','Cash'],inplace = True)"
      ]
    },
    {
      "cell_type": "markdown",
      "id": "31a3ffd5-3073-4933-b871-29d32a529e25",
      "metadata": {
        "id": "31a3ffd5-3073-4933-b871-29d32a529e25"
      },
      "source": [
        "**now we will do descriptive statistics for our dataset**"
      ]
    },
    {
      "cell_type": "code",
      "execution_count": null,
      "id": "59811c6f-b414-4c3e-b33c-e0a37b1e9882",
      "metadata": {
        "colab": {
          "base_uri": "https://localhost:8080/",
          "height": 300
        },
        "id": "59811c6f-b414-4c3e-b33c-e0a37b1e9882",
        "outputId": "f4fc5ad8-474a-41e6-8bdd-bf856ef62b37"
      },
      "outputs": [
        {
          "data": {
            "text/html": [
              "<div>\n",
              "<style scoped>\n",
              "    .dataframe tbody tr th:only-of-type {\n",
              "        vertical-align: middle;\n",
              "    }\n",
              "\n",
              "    .dataframe tbody tr th {\n",
              "        vertical-align: top;\n",
              "    }\n",
              "\n",
              "    .dataframe thead th {\n",
              "        text-align: right;\n",
              "    }\n",
              "</style>\n",
              "<table border=\"1\" class=\"dataframe\">\n",
              "  <thead>\n",
              "    <tr style=\"text-align: right;\">\n",
              "      <th></th>\n",
              "      <th>passenger_count</th>\n",
              "      <th>fare_amount</th>\n",
              "      <th>trip_distance</th>\n",
              "      <th>duration</th>\n",
              "    </tr>\n",
              "  </thead>\n",
              "  <tbody>\n",
              "    <tr>\n",
              "      <th>count</th>\n",
              "      <td>2.780283e+06</td>\n",
              "      <td>2.780283e+06</td>\n",
              "      <td>2.780283e+06</td>\n",
              "      <td>2.780283e+06</td>\n",
              "    </tr>\n",
              "    <tr>\n",
              "      <th>mean</th>\n",
              "      <td>1.733386e+00</td>\n",
              "      <td>1.780567e+01</td>\n",
              "      <td>4.536729e+00</td>\n",
              "      <td>2.415478e+01</td>\n",
              "    </tr>\n",
              "    <tr>\n",
              "      <th>std</th>\n",
              "      <td>1.176652e+00</td>\n",
              "      <td>1.506997e+01</td>\n",
              "      <td>4.895890e+00</td>\n",
              "      <td>9.260031e+01</td>\n",
              "    </tr>\n",
              "    <tr>\n",
              "      <th>min</th>\n",
              "      <td>1.000000e+00</td>\n",
              "      <td>-5.000000e+02</td>\n",
              "      <td>-2.218000e+01</td>\n",
              "      <td>-2.770367e+03</td>\n",
              "    </tr>\n",
              "    <tr>\n",
              "      <th>25%</th>\n",
              "      <td>1.000000e+00</td>\n",
              "      <td>9.000000e+00</td>\n",
              "      <td>1.500000e+00</td>\n",
              "      <td>9.883333e+00</td>\n",
              "    </tr>\n",
              "    <tr>\n",
              "      <th>50%</th>\n",
              "      <td>1.000000e+00</td>\n",
              "      <td>1.300000e+01</td>\n",
              "      <td>2.730000e+00</td>\n",
              "      <td>1.573333e+01</td>\n",
              "    </tr>\n",
              "    <tr>\n",
              "      <th>75%</th>\n",
              "      <td>2.000000e+00</td>\n",
              "      <td>2.100000e+01</td>\n",
              "      <td>5.470000e+00</td>\n",
              "      <td>2.336667e+01</td>\n",
              "    </tr>\n",
              "    <tr>\n",
              "      <th>max</th>\n",
              "      <td>5.000000e+00</td>\n",
              "      <td>4.265000e+03</td>\n",
              "      <td>2.628800e+02</td>\n",
              "      <td>8.525117e+03</td>\n",
              "    </tr>\n",
              "  </tbody>\n",
              "</table>\n",
              "</div>"
            ],
            "text/plain": [
              "       passenger_count   fare_amount  trip_distance      duration\n",
              "count     2.780283e+06  2.780283e+06   2.780283e+06  2.780283e+06\n",
              "mean      1.733386e+00  1.780567e+01   4.536729e+00  2.415478e+01\n",
              "std       1.176652e+00  1.506997e+01   4.895890e+00  9.260031e+01\n",
              "min       1.000000e+00 -5.000000e+02  -2.218000e+01 -2.770367e+03\n",
              "25%       1.000000e+00  9.000000e+00   1.500000e+00  9.883333e+00\n",
              "50%       1.000000e+00  1.300000e+01   2.730000e+00  1.573333e+01\n",
              "75%       2.000000e+00  2.100000e+01   5.470000e+00  2.336667e+01\n",
              "max       5.000000e+00  4.265000e+03   2.628800e+02  8.525117e+03"
            ]
          },
          "execution_count": 27,
          "metadata": {},
          "output_type": "execute_result"
        }
      ],
      "source": [
        "df.describe()"
      ]
    },
    {
      "cell_type": "markdown",
      "id": "4f7a559e-7fab-4d9c-9b87-46d49ba54815",
      "metadata": {
        "id": "4f7a559e-7fab-4d9c-9b87-46d49ba54815"
      },
      "source": [
        "**now we can see in our descriptive statistics that min value for fare amount, trip distance and duration is in -ve so we will remove it by giving condition that all value should be greater than 0**"
      ]
    },
    {
      "cell_type": "code",
      "execution_count": null,
      "id": "23b9bc56-4ef7-4d0a-8b37-6cb7767ba976",
      "metadata": {
        "id": "23b9bc56-4ef7-4d0a-8b37-6cb7767ba976"
      },
      "outputs": [],
      "source": [
        "df = df[df['fare_amount']>0]\n",
        "df = df[df['trip_distance']>0]\n",
        "df = df[df['duration']>0]"
      ]
    },
    {
      "cell_type": "code",
      "execution_count": null,
      "id": "846b553b-205e-442e-8db3-6ff7f20b3540",
      "metadata": {
        "colab": {
          "base_uri": "https://localhost:8080/",
          "height": 423
        },
        "id": "846b553b-205e-442e-8db3-6ff7f20b3540",
        "outputId": "0fd51106-f0c4-4f1a-bb27-11380bebe3a7"
      },
      "outputs": [
        {
          "data": {
            "text/html": [
              "<div>\n",
              "<style scoped>\n",
              "    .dataframe tbody tr th:only-of-type {\n",
              "        vertical-align: middle;\n",
              "    }\n",
              "\n",
              "    .dataframe tbody tr th {\n",
              "        vertical-align: top;\n",
              "    }\n",
              "\n",
              "    .dataframe thead th {\n",
              "        text-align: right;\n",
              "    }\n",
              "</style>\n",
              "<table border=\"1\" class=\"dataframe\">\n",
              "  <thead>\n",
              "    <tr style=\"text-align: right;\">\n",
              "      <th></th>\n",
              "      <th>passenger_count</th>\n",
              "      <th>payment_type</th>\n",
              "      <th>fare_amount</th>\n",
              "      <th>trip_distance</th>\n",
              "      <th>duration</th>\n",
              "    </tr>\n",
              "  </thead>\n",
              "  <tbody>\n",
              "    <tr>\n",
              "      <th>0</th>\n",
              "      <td>1</td>\n",
              "      <td>Card</td>\n",
              "      <td>6.0</td>\n",
              "      <td>1.20</td>\n",
              "      <td>4.800000</td>\n",
              "    </tr>\n",
              "    <tr>\n",
              "      <th>1</th>\n",
              "      <td>1</td>\n",
              "      <td>Card</td>\n",
              "      <td>7.0</td>\n",
              "      <td>1.20</td>\n",
              "      <td>7.416667</td>\n",
              "    </tr>\n",
              "    <tr>\n",
              "      <th>2</th>\n",
              "      <td>1</td>\n",
              "      <td>Card</td>\n",
              "      <td>6.0</td>\n",
              "      <td>0.60</td>\n",
              "      <td>6.183333</td>\n",
              "    </tr>\n",
              "    <tr>\n",
              "      <th>3</th>\n",
              "      <td>1</td>\n",
              "      <td>Card</td>\n",
              "      <td>5.5</td>\n",
              "      <td>0.80</td>\n",
              "      <td>4.850000</td>\n",
              "    </tr>\n",
              "    <tr>\n",
              "      <th>5</th>\n",
              "      <td>1</td>\n",
              "      <td>Cash</td>\n",
              "      <td>2.5</td>\n",
              "      <td>0.03</td>\n",
              "      <td>0.883333</td>\n",
              "    </tr>\n",
              "    <tr>\n",
              "      <th>...</th>\n",
              "      <td>...</td>\n",
              "      <td>...</td>\n",
              "      <td>...</td>\n",
              "      <td>...</td>\n",
              "      <td>...</td>\n",
              "    </tr>\n",
              "    <tr>\n",
              "      <th>6339550</th>\n",
              "      <td>4</td>\n",
              "      <td>Card</td>\n",
              "      <td>10.5</td>\n",
              "      <td>2.40</td>\n",
              "      <td>12.383333</td>\n",
              "    </tr>\n",
              "    <tr>\n",
              "      <th>6339555</th>\n",
              "      <td>3</td>\n",
              "      <td>Card</td>\n",
              "      <td>10.0</td>\n",
              "      <td>2.09</td>\n",
              "      <td>14.800000</td>\n",
              "    </tr>\n",
              "    <tr>\n",
              "      <th>6339561</th>\n",
              "      <td>1</td>\n",
              "      <td>Card</td>\n",
              "      <td>17.5</td>\n",
              "      <td>4.11</td>\n",
              "      <td>21.500000</td>\n",
              "    </tr>\n",
              "    <tr>\n",
              "      <th>6339563</th>\n",
              "      <td>1</td>\n",
              "      <td>Card</td>\n",
              "      <td>13.0</td>\n",
              "      <td>2.13</td>\n",
              "      <td>19.000000</td>\n",
              "    </tr>\n",
              "    <tr>\n",
              "      <th>6339564</th>\n",
              "      <td>1</td>\n",
              "      <td>Card</td>\n",
              "      <td>12.5</td>\n",
              "      <td>2.55</td>\n",
              "      <td>16.283333</td>\n",
              "    </tr>\n",
              "  </tbody>\n",
              "</table>\n",
              "<p>2748932 rows × 5 columns</p>\n",
              "</div>"
            ],
            "text/plain": [
              "         passenger_count payment_type  fare_amount  trip_distance   duration\n",
              "0                      1         Card          6.0           1.20   4.800000\n",
              "1                      1         Card          7.0           1.20   7.416667\n",
              "2                      1         Card          6.0           0.60   6.183333\n",
              "3                      1         Card          5.5           0.80   4.850000\n",
              "5                      1         Cash          2.5           0.03   0.883333\n",
              "...                  ...          ...          ...            ...        ...\n",
              "6339550                4         Card         10.5           2.40  12.383333\n",
              "6339555                3         Card         10.0           2.09  14.800000\n",
              "6339561                1         Card         17.5           4.11  21.500000\n",
              "6339563                1         Card         13.0           2.13  19.000000\n",
              "6339564                1         Card         12.5           2.55  16.283333\n",
              "\n",
              "[2748932 rows x 5 columns]"
            ]
          },
          "execution_count": 29,
          "metadata": {},
          "output_type": "execute_result"
        }
      ],
      "source": [
        "df"
      ]
    },
    {
      "cell_type": "code",
      "execution_count": null,
      "id": "97edb914-c751-440b-9542-801a6741b03f",
      "metadata": {
        "colab": {
          "base_uri": "https://localhost:8080/",
          "height": 186
        },
        "id": "97edb914-c751-440b-9542-801a6741b03f",
        "outputId": "e9aa0523-e3c5-4181-b0e2-bdb7e0b2af43"
      },
      "outputs": [
        {
          "data": {
            "text/plain": [
              "<bound method NDFrame.describe of          passenger_count payment_type  fare_amount  trip_distance   duration\n",
              "0                      1         Card          6.0           1.20   4.800000\n",
              "1                      1         Card          7.0           1.20   7.416667\n",
              "2                      1         Card          6.0           0.60   6.183333\n",
              "3                      1         Card          5.5           0.80   4.850000\n",
              "5                      1         Cash          2.5           0.03   0.883333\n",
              "...                  ...          ...          ...            ...        ...\n",
              "6339550                4         Card         10.5           2.40  12.383333\n",
              "6339555                3         Card         10.0           2.09  14.800000\n",
              "6339561                1         Card         17.5           4.11  21.500000\n",
              "6339563                1         Card         13.0           2.13  19.000000\n",
              "6339564                1         Card         12.5           2.55  16.283333\n",
              "\n",
              "[2748932 rows x 5 columns]>"
            ]
          },
          "execution_count": 30,
          "metadata": {},
          "output_type": "execute_result"
        }
      ],
      "source": [
        "df.describe"
      ]
    },
    {
      "cell_type": "markdown",
      "id": "91cd0e30-254c-4ccf-80f2-6f53b05af181",
      "metadata": {
        "id": "91cd0e30-254c-4ccf-80f2-6f53b05af181"
      },
      "source": [
        "**now we will find for outlier in  fare amt by plotting histogram**"
      ]
    },
    {
      "cell_type": "code",
      "execution_count": null,
      "id": "e7a280f0-ab41-49fa-ae02-c1643f20e1e2",
      "metadata": {
        "colab": {
          "base_uri": "https://localhost:8080/",
          "height": 566
        },
        "id": "e7a280f0-ab41-49fa-ae02-c1643f20e1e2",
        "outputId": "3d151c17-9acb-4971-c3db-aeeffd212d8a"
      },
      "outputs": [
        {
          "data": {
            "text/plain": [
              "(array([2.748913e+06, 1.600000e+01, 1.000000e+00, 0.000000e+00,\n",
              "        1.000000e+00, 0.000000e+00, 0.000000e+00, 0.000000e+00,\n",
              "        0.000000e+00, 1.000000e+00]),\n",
              " array([1.000000e-02, 4.265090e+02, 8.530080e+02, 1.279507e+03,\n",
              "        1.706006e+03, 2.132505e+03, 2.559004e+03, 2.985503e+03,\n",
              "        3.412002e+03, 3.838501e+03, 4.265000e+03]),\n",
              " <BarContainer object of 10 artists>)"
            ]
          },
          "execution_count": 31,
          "metadata": {},
          "output_type": "execute_result"
        },
        {
          "data": {
            "image/png": "[encoded data removed]",
            "text/plain": [
              "<Figure size 640x480 with 1 Axes>"
            ]
          },
          "metadata": {},
          "output_type": "display_data"
        }
      ],
      "source": [
        " plt.hist(df['fare_amount'])"
      ]
    },
    {
      "cell_type": "markdown",
      "id": "f8e6e5f1-1637-442a-8e26-ea7d537dc352",
      "metadata": {
        "id": "f8e6e5f1-1637-442a-8e26-ea7d537dc352"
      },
      "source": [
        "**we can see above the outlier in  above histogram, now we will see by plotting box plot**"
      ]
    },
    {
      "cell_type": "code",
      "execution_count": null,
      "id": "3ee20afe-b71c-4e4c-bb0e-b0d777e5c09f",
      "metadata": {
        "colab": {
          "base_uri": "https://localhost:8080/",
          "height": 569
        },
        "id": "3ee20afe-b71c-4e4c-bb0e-b0d777e5c09f",
        "outputId": "cdb128a0-c1c8-4530-ef8d-a32949c479af"
      },
      "outputs": [
        {
          "data": {
            "text/plain": [
              "{'whiskers': [<matplotlib.lines.Line2D at 0x1ae8d5b3890>,\n",
              "  <matplotlib.lines.Line2D at 0x1ae8d5c4550>],\n",
              " 'caps': [<matplotlib.lines.Line2D at 0x1ae8d5c5150>,\n",
              "  <matplotlib.lines.Line2D at 0x1ae8d5c5c90>],\n",
              " 'boxes': [<matplotlib.lines.Line2D at 0x1ae99f05fd0>],\n",
              " 'medians': [<matplotlib.lines.Line2D at 0x1ae8d5c6750>],\n",
              " 'fliers': [<matplotlib.lines.Line2D at 0x1ae8d5c72d0>],\n",
              " 'means': []}"
            ]
          },
          "execution_count": 32,
          "metadata": {},
          "output_type": "execute_result"
        },
        {
          "data": {
            "image/png": "[encoded data removed]",
            "text/plain": [
              "<Figure size 640x480 with 1 Axes>"
            ]
          },
          "metadata": {},
          "output_type": "display_data"
        }
      ],
      "source": [
        " plt.boxplot(df['fare_amount'])"
      ]
    },
    {
      "cell_type": "markdown",
      "id": "9b07d5ef-97dc-4443-9efe-c8c2c770ce19",
      "metadata": {
        "id": "9b07d5ef-97dc-4443-9efe-c8c2c770ce19"
      },
      "source": [
        "**in box plot we can also see outlier for removing, now we will use IQR Method because, the data is not so much normally distributed so we will not use z-score\n",
        "Calculate the lower and upper bounds for defining outliers, Any values below the lower bound or above the upper bound are considered outliers**"
      ]
    },
    {
      "cell_type": "code",
      "execution_count": null,
      "id": "bce3fbd0-2abb-4359-9f5a-358236224554",
      "metadata": {
        "id": "bce3fbd0-2abb-4359-9f5a-358236224554"
      },
      "outputs": [],
      "source": [
        "for col in ['fare_amount','trip_distance','duration']:\n",
        "    q1 =df[col].quantile(0.25)\n",
        "    q3 =df[col].quantile(0.75)\n",
        "    IQR =q3-q1\n",
        "\n",
        "    lower_bound =q1-1.5*IQR\n",
        "    upper_bound =q3+1.5*IQR\n",
        "\n",
        "    df = df[(df[col]>=lower_bound) & (df[col]<=upper_bound)]"
      ]
    },
    {
      "cell_type": "markdown",
      "id": "d03233eb-d425-4a3c-a458-2e37a63d8406",
      "metadata": {
        "id": "d03233eb-d425-4a3c-a458-2e37a63d8406"
      },
      "source": [
        "**now we will again see that outliers are removed or not**"
      ]
    },
    {
      "cell_type": "code",
      "execution_count": null,
      "id": "66e21d39-ba8f-46f2-ae52-b8ba0fd6ab4c",
      "metadata": {
        "id": "66e21d39-ba8f-46f2-ae52-b8ba0fd6ab4c",
        "outputId": "1ba52926-9592-4b60-a9b7-a3c2a8df0fb3"
      },
      "outputs": [
        {
          "data": {
            "text/plain": [
              "{'whiskers': [<matplotlib.lines.Line2D at 0x1ae8e29a590>,\n",
              "  <matplotlib.lines.Line2D at 0x1ae8e29b190>],\n",
              " 'caps': [<matplotlib.lines.Line2D at 0x1ae8e29bd90>,\n",
              "  <matplotlib.lines.Line2D at 0x1ae8e2a8890>],\n",
              " 'boxes': [<matplotlib.lines.Line2D at 0x1ae8e2998d0>],\n",
              " 'medians': [<matplotlib.lines.Line2D at 0x1ae8e2a9410>],\n",
              " 'fliers': [<matplotlib.lines.Line2D at 0x1ae8e2a9f90>],\n",
              " 'means': []}"
            ]
          },
          "execution_count": 34,
          "metadata": {},
          "output_type": "execute_result"
        },
        {
          "data": {
            "image/png": "[encoded data removed]",
            "text/plain": [
              "<Figure size 640x480 with 1 Axes>"
            ]
          },
          "metadata": {},
          "output_type": "display_data"
        }
      ],
      "source": [
        " plt.boxplot(df['fare_amount'])"
      ]
    },
    {
      "cell_type": "code",
      "execution_count": null,
      "id": "7041da65-6596-4da3-a273-b5d20bc21b06",
      "metadata": {
        "colab": {
          "base_uri": "https://localhost:8080/",
          "height": 423
        },
        "id": "7041da65-6596-4da3-a273-b5d20bc21b06",
        "outputId": "f7eefe96-428e-411b-ca8f-5541a63695c3"
      },
      "outputs": [
        {
          "data": {
            "text/html": [
              "<div>\n",
              "<style scoped>\n",
              "    .dataframe tbody tr th:only-of-type {\n",
              "        vertical-align: middle;\n",
              "    }\n",
              "\n",
              "    .dataframe tbody tr th {\n",
              "        vertical-align: top;\n",
              "    }\n",
              "\n",
              "    .dataframe thead th {\n",
              "        text-align: right;\n",
              "    }\n",
              "</style>\n",
              "<table border=\"1\" class=\"dataframe\">\n",
              "  <thead>\n",
              "    <tr style=\"text-align: right;\">\n",
              "      <th></th>\n",
              "      <th>passenger_count</th>\n",
              "      <th>payment_type</th>\n",
              "      <th>fare_amount</th>\n",
              "      <th>trip_distance</th>\n",
              "      <th>duration</th>\n",
              "    </tr>\n",
              "  </thead>\n",
              "  <tbody>\n",
              "    <tr>\n",
              "      <th>0</th>\n",
              "      <td>1</td>\n",
              "      <td>Card</td>\n",
              "      <td>6.0</td>\n",
              "      <td>1.20</td>\n",
              "      <td>4.800000</td>\n",
              "    </tr>\n",
              "    <tr>\n",
              "      <th>1</th>\n",
              "      <td>1</td>\n",
              "      <td>Card</td>\n",
              "      <td>7.0</td>\n",
              "      <td>1.20</td>\n",
              "      <td>7.416667</td>\n",
              "    </tr>\n",
              "    <tr>\n",
              "      <th>2</th>\n",
              "      <td>1</td>\n",
              "      <td>Card</td>\n",
              "      <td>6.0</td>\n",
              "      <td>0.60</td>\n",
              "      <td>6.183333</td>\n",
              "    </tr>\n",
              "    <tr>\n",
              "      <th>3</th>\n",
              "      <td>1</td>\n",
              "      <td>Card</td>\n",
              "      <td>5.5</td>\n",
              "      <td>0.80</td>\n",
              "      <td>4.850000</td>\n",
              "    </tr>\n",
              "    <tr>\n",
              "      <th>5</th>\n",
              "      <td>1</td>\n",
              "      <td>Cash</td>\n",
              "      <td>2.5</td>\n",
              "      <td>0.03</td>\n",
              "      <td>0.883333</td>\n",
              "    </tr>\n",
              "    <tr>\n",
              "      <th>...</th>\n",
              "      <td>...</td>\n",
              "      <td>...</td>\n",
              "      <td>...</td>\n",
              "      <td>...</td>\n",
              "      <td>...</td>\n",
              "    </tr>\n",
              "    <tr>\n",
              "      <th>6339550</th>\n",
              "      <td>4</td>\n",
              "      <td>Card</td>\n",
              "      <td>10.5</td>\n",
              "      <td>2.40</td>\n",
              "      <td>12.383333</td>\n",
              "    </tr>\n",
              "    <tr>\n",
              "      <th>6339555</th>\n",
              "      <td>3</td>\n",
              "      <td>Card</td>\n",
              "      <td>10.0</td>\n",
              "      <td>2.09</td>\n",
              "      <td>14.800000</td>\n",
              "    </tr>\n",
              "    <tr>\n",
              "      <th>6339561</th>\n",
              "      <td>1</td>\n",
              "      <td>Card</td>\n",
              "      <td>17.5</td>\n",
              "      <td>4.11</td>\n",
              "      <td>21.500000</td>\n",
              "    </tr>\n",
              "    <tr>\n",
              "      <th>6339563</th>\n",
              "      <td>1</td>\n",
              "      <td>Card</td>\n",
              "      <td>13.0</td>\n",
              "      <td>2.13</td>\n",
              "      <td>19.000000</td>\n",
              "    </tr>\n",
              "    <tr>\n",
              "      <th>6339564</th>\n",
              "      <td>1</td>\n",
              "      <td>Card</td>\n",
              "      <td>12.5</td>\n",
              "      <td>2.55</td>\n",
              "      <td>16.283333</td>\n",
              "    </tr>\n",
              "  </tbody>\n",
              "</table>\n",
              "<p>2297908 rows × 5 columns</p>\n",
              "</div>"
            ],
            "text/plain": [
              "         passenger_count payment_type  fare_amount  trip_distance   duration\n",
              "0                      1         Card          6.0           1.20   4.800000\n",
              "1                      1         Card          7.0           1.20   7.416667\n",
              "2                      1         Card          6.0           0.60   6.183333\n",
              "3                      1         Card          5.5           0.80   4.850000\n",
              "5                      1         Cash          2.5           0.03   0.883333\n",
              "...                  ...          ...          ...            ...        ...\n",
              "6339550                4         Card         10.5           2.40  12.383333\n",
              "6339555                3         Card         10.0           2.09  14.800000\n",
              "6339561                1         Card         17.5           4.11  21.500000\n",
              "6339563                1         Card         13.0           2.13  19.000000\n",
              "6339564                1         Card         12.5           2.55  16.283333\n",
              "\n",
              "[2297908 rows x 5 columns]"
            ]
          },
          "execution_count": 35,
          "metadata": {},
          "output_type": "execute_result"
        }
      ],
      "source": [
        "df"
      ]
    },
    {
      "cell_type": "markdown",
      "source": [
        "now we have fair data , now we will see on the basis of fare_amount and trip distance that, what customer prefer pay by card or cash and we will see this distribution by using histogram for trip distance and fare amount"
      ],
      "metadata": {
        "id": "y12yLITJc2Mo"
      },
      "id": "y12yLITJc2Mo"
    },
    {
      "cell_type": "code",
      "execution_count": null,
      "id": "fe77c2f1-d168-46a6-83cd-395c8ab65e2a",
      "metadata": {
        "colab": {
          "base_uri": "https://localhost:8080/",
          "height": 468
        },
        "id": "fe77c2f1-d168-46a6-83cd-395c8ab65e2a",
        "outputId": "614e8fa8-f1d6-4b1a-a643-572199e25f9d"
      },
      "outputs": [
        {
          "data": {
            "image/png": "[encoded data removed]",
            "text/plain": [
              "<Figure size 1200x500 with 2 Axes>"
            ]
          },
          "metadata": {},
          "output_type": "display_data"
        }
      ],
      "source": [
        "plt.figure(figsize = (12,5))\n",
        "plt.subplot(1,2,1)\n",
        "plt.title('Distribution of Fare Amount')\n",
        "plt.hist(df[df['payment_type'] =='Card']['fare_amount'],histtype = 'barstacked',bins = 20, edgecolor = 'k', color = '#FA643F', label ='card')\n",
        "plt.hist(df[df['payment_type'] =='Cash']['fare_amount'],histtype = 'barstacked',bins = 20, edgecolor = 'k', color = '#FFBCAB',label ='cash')\n",
        "plt.legend()\n",
        "\n",
        "plt.subplot(1,2,2)\n",
        "plt.title('Distribution of Trip Distance')\n",
        "plt.hist(df[df['payment_type'] =='Card']['trip_distance'],histtype = 'barstacked',bins = 20, edgecolor = 'k', color = '#FA643F', label ='card')\n",
        "plt.hist(df[df['payment_type'] =='Cash']['trip_distance'],histtype = 'barstacked',bins = 20, edgecolor = 'k', color = '#FFBCAB',label ='cash')\n",
        "plt.legend()\n",
        "plt.show()"
      ]
    },
    {
      "cell_type": "markdown",
      "source": [
        "in above distribution we can see that when trip distance and fare amount increasing people prefer using card\n",
        "\n",
        "to verify statically we can find mean and std for trip ditance and fare amount on basis of card and cash"
      ],
      "metadata": {
        "id": "7iYkvTNZeVRR"
      },
      "id": "7iYkvTNZeVRR"
    },
    {
      "cell_type": "code",
      "execution_count": null,
      "id": "38f05bfa-3490-4fb4-92a6-aadb2d3e7303",
      "metadata": {
        "colab": {
          "base_uri": "https://localhost:8080/",
          "height": 175
        },
        "id": "38f05bfa-3490-4fb4-92a6-aadb2d3e7303",
        "outputId": "2358258c-d225-473c-c333-b2afe7a31416"
      },
      "outputs": [
        {
          "data": {
            "text/html": [
              "<div>\n",
              "<style scoped>\n",
              "    .dataframe tbody tr th:only-of-type {\n",
              "        vertical-align: middle;\n",
              "    }\n",
              "\n",
              "    .dataframe tbody tr th {\n",
              "        vertical-align: top;\n",
              "    }\n",
              "\n",
              "    .dataframe thead tr th {\n",
              "        text-align: left;\n",
              "    }\n",
              "\n",
              "    .dataframe thead tr:last-of-type th {\n",
              "        text-align: right;\n",
              "    }\n",
              "</style>\n",
              "<table border=\"1\" class=\"dataframe\">\n",
              "  <thead>\n",
              "    <tr>\n",
              "      <th></th>\n",
              "      <th colspan=\"2\" halign=\"left\">fare_amount</th>\n",
              "      <th colspan=\"2\" halign=\"left\">trip_distance</th>\n",
              "    </tr>\n",
              "    <tr>\n",
              "      <th></th>\n",
              "      <th>mean</th>\n",
              "      <th>std</th>\n",
              "      <th>mean</th>\n",
              "      <th>std</th>\n",
              "    </tr>\n",
              "    <tr>\n",
              "      <th>payment_type</th>\n",
              "      <th></th>\n",
              "      <th></th>\n",
              "      <th></th>\n",
              "      <th></th>\n",
              "    </tr>\n",
              "  </thead>\n",
              "  <tbody>\n",
              "    <tr>\n",
              "      <th>Card</th>\n",
              "      <td>13.112493</td>\n",
              "      <td>5.849281</td>\n",
              "      <td>2.992237</td>\n",
              "      <td>1.99274</td>\n",
              "    </tr>\n",
              "    <tr>\n",
              "      <th>Cash</th>\n",
              "      <td>11.758005</td>\n",
              "      <td>5.613038</td>\n",
              "      <td>2.602207</td>\n",
              "      <td>1.91372</td>\n",
              "    </tr>\n",
              "  </tbody>\n",
              "</table>\n",
              "</div>"
            ],
            "text/plain": [
              "             fare_amount           trip_distance         \n",
              "                    mean       std          mean      std\n",
              "payment_type                                             \n",
              "Card           13.112493  5.849281      2.992237  1.99274\n",
              "Cash           11.758005  5.613038      2.602207  1.91372"
            ]
          },
          "execution_count": 37,
          "metadata": {},
          "output_type": "execute_result"
        }
      ],
      "source": [
        "df.groupby('payment_type').agg({'fare_amount':['mean','std'],'trip_distance':['mean','std']})\n",
        "# above we can see that when mean and std of fare amount and trip distance is more when card is selected"
      ]
    },
    {
      "cell_type": "markdown",
      "source": [
        "now to very percentage of person who prefer card and whor prefer cash in our data set, we will use pie chart/ donut chart"
      ],
      "metadata": {
        "id": "cXYbihLRe2cV"
      },
      "id": "cXYbihLRe2cV"
    },
    {
      "cell_type": "code",
      "execution_count": null,
      "id": "adaf9f62-ec2e-4405-b312-c7bbb9672b5b",
      "metadata": {
        "colab": {
          "base_uri": "https://localhost:8080/",
          "height": 428
        },
        "id": "adaf9f62-ec2e-4405-b312-c7bbb9672b5b",
        "outputId": "27226c94-9e69-4272-9f7a-a293df78383d"
      },
      "outputs": [
        {
          "data": {
            "image/png": "[encoded data removed]",
            "text/plain": [
              "<Figure size 640x480 with 1 Axes>"
            ]
          },
          "metadata": {},
          "output_type": "display_data"
        }
      ],
      "source": [
        "plt.title('Preference of Payment Type')\n",
        "plt.pie(df['payment_type'].value_counts(normalize = True), labels = df['payment_type'].value_counts().index,\n",
        "            startangle = 90, shadow =True , autopct = '%1.1f%%', colors = ['#FA643F','#FFBCAB'])\n",
        "plt.show()"
      ]
    },
    {
      "cell_type": "markdown",
      "source": [
        "now we have payment type distribution, we have seen trip distance distribution and also we have seen fatre amound distribution, now we will see passenger count distribution\n",
        "\n",
        "now we will see passenger count analysis with payment type\n",
        "\n",
        "we will make stacked bar chart to show distribution of passenger count % on card and cash"
      ],
      "metadata": {
        "id": "vjiSYjAUf5WN"
      },
      "id": "vjiSYjAUf5WN"
    },
    {
      "cell_type": "code",
      "execution_count": null,
      "id": "f5410c3a-11dc-4cf1-bbe6-572a4c738a20",
      "metadata": {
        "id": "f5410c3a-11dc-4cf1-bbe6-572a4c738a20"
      },
      "outputs": [],
      "source": [
        "# firstly we will form distribution by using groupby function\n",
        "passenger_count = df.groupby(['payment_type','passenger_count'])[['passenger_count']].count()\n",
        "passenger_count.rename(columns={'passenger_count':'count'},inplace = True)\n",
        "passenger_count.reset_index(inplace = True)"
      ]
    },
    {
      "cell_type": "code",
      "execution_count": null,
      "id": "80e3e267-e953-474a-8528-072e53d09605",
      "metadata": {
        "id": "80e3e267-e953-474a-8528-072e53d09605"
      },
      "outputs": [],
      "source": [
        "# now we are converting value into percentage\n",
        "passenger_count['perc'] = (passenger_count['count']/passenger_count['count'].sum())*100"
      ]
    },
    {
      "cell_type": "code",
      "execution_count": null,
      "id": "07EWR8gx2fyD",
      "metadata": {
        "colab": {
          "base_uri": "https://localhost:8080/",
          "height": 81
        },
        "id": "07EWR8gx2fyD",
        "outputId": "eb7bae11-0896-479c-dbf9-868c8094f3fb"
      },
      "outputs": [
        {
          "data": {
            "text/html": [
              "<div>\n",
              "<style scoped>\n",
              "    .dataframe tbody tr th:only-of-type {\n",
              "        vertical-align: middle;\n",
              "    }\n",
              "\n",
              "    .dataframe tbody tr th {\n",
              "        vertical-align: top;\n",
              "    }\n",
              "\n",
              "    .dataframe thead th {\n",
              "        text-align: right;\n",
              "    }\n",
              "</style>\n",
              "<table border=\"1\" class=\"dataframe\">\n",
              "  <thead>\n",
              "    <tr style=\"text-align: right;\">\n",
              "      <th></th>\n",
              "      <th>passenger_count</th>\n",
              "      <th>payment_type</th>\n",
              "      <th>fare_amount</th>\n",
              "      <th>trip_distance</th>\n",
              "      <th>duration</th>\n",
              "    </tr>\n",
              "  </thead>\n",
              "  <tbody>\n",
              "    <tr>\n",
              "      <th>0</th>\n",
              "      <td>1</td>\n",
              "      <td>Card</td>\n",
              "      <td>6.0</td>\n",
              "      <td>1.2</td>\n",
              "      <td>4.8</td>\n",
              "    </tr>\n",
              "  </tbody>\n",
              "</table>\n",
              "</div>"
            ],
            "text/plain": [
              "   passenger_count payment_type  fare_amount  trip_distance  duration\n",
              "0                1         Card          6.0            1.2       4.8"
            ]
          },
          "execution_count": 45,
          "metadata": {},
          "output_type": "execute_result"
        }
      ],
      "source": [
        "df.head(1)"
      ]
    },
    {
      "cell_type": "code",
      "execution_count": null,
      "id": "c0d1c6b7-c221-4df5-9f3b-a4d9700ccbc7",
      "metadata": {
        "colab": {
          "base_uri": "https://localhost:8080/",
          "height": 363
        },
        "id": "c0d1c6b7-c221-4df5-9f3b-a4d9700ccbc7",
        "outputId": "70cbb68a-cb37-4bf8-a780-da52bd95b362"
      },
      "outputs": [
        {
          "data": {
            "text/html": [
              "<div>\n",
              "<style scoped>\n",
              "    .dataframe tbody tr th:only-of-type {\n",
              "        vertical-align: middle;\n",
              "    }\n",
              "\n",
              "    .dataframe tbody tr th {\n",
              "        vertical-align: top;\n",
              "    }\n",
              "\n",
              "    .dataframe thead th {\n",
              "        text-align: right;\n",
              "    }\n",
              "</style>\n",
              "<table border=\"1\" class=\"dataframe\">\n",
              "  <thead>\n",
              "    <tr style=\"text-align: right;\">\n",
              "      <th></th>\n",
              "      <th>payment_type</th>\n",
              "      <th>passenger_count</th>\n",
              "      <th>count</th>\n",
              "      <th>perc</th>\n",
              "    </tr>\n",
              "  </thead>\n",
              "  <tbody>\n",
              "    <tr>\n",
              "      <th>0</th>\n",
              "      <td>Card</td>\n",
              "      <td>1</td>\n",
              "      <td>909245</td>\n",
              "      <td>39.568381</td>\n",
              "    </tr>\n",
              "    <tr>\n",
              "      <th>1</th>\n",
              "      <td>Card</td>\n",
              "      <td>2</td>\n",
              "      <td>327661</td>\n",
              "      <td>14.259100</td>\n",
              "    </tr>\n",
              "    <tr>\n",
              "      <th>2</th>\n",
              "      <td>Card</td>\n",
              "      <td>3</td>\n",
              "      <td>122412</td>\n",
              "      <td>5.327106</td>\n",
              "    </tr>\n",
              "    <tr>\n",
              "      <th>3</th>\n",
              "      <td>Card</td>\n",
              "      <td>4</td>\n",
              "      <td>63676</td>\n",
              "      <td>2.771042</td>\n",
              "    </tr>\n",
              "    <tr>\n",
              "      <th>4</th>\n",
              "      <td>Card</td>\n",
              "      <td>5</td>\n",
              "      <td>124045</td>\n",
              "      <td>5.398171</td>\n",
              "    </tr>\n",
              "    <tr>\n",
              "      <th>5</th>\n",
              "      <td>Cash</td>\n",
              "      <td>1</td>\n",
              "      <td>460550</td>\n",
              "      <td>20.042143</td>\n",
              "    </tr>\n",
              "    <tr>\n",
              "      <th>6</th>\n",
              "      <td>Cash</td>\n",
              "      <td>2</td>\n",
              "      <td>155472</td>\n",
              "      <td>6.765806</td>\n",
              "    </tr>\n",
              "    <tr>\n",
              "      <th>7</th>\n",
              "      <td>Cash</td>\n",
              "      <td>3</td>\n",
              "      <td>54506</td>\n",
              "      <td>2.371984</td>\n",
              "    </tr>\n",
              "    <tr>\n",
              "      <th>8</th>\n",
              "      <td>Cash</td>\n",
              "      <td>4</td>\n",
              "      <td>32715</td>\n",
              "      <td>1.423686</td>\n",
              "    </tr>\n",
              "    <tr>\n",
              "      <th>9</th>\n",
              "      <td>Cash</td>\n",
              "      <td>5</td>\n",
              "      <td>47626</td>\n",
              "      <td>2.072581</td>\n",
              "    </tr>\n",
              "  </tbody>\n",
              "</table>\n",
              "</div>"
            ],
            "text/plain": [
              "  payment_type  passenger_count   count       perc\n",
              "0         Card                1  909245  39.568381\n",
              "1         Card                2  327661  14.259100\n",
              "2         Card                3  122412   5.327106\n",
              "3         Card                4   63676   2.771042\n",
              "4         Card                5  124045   5.398171\n",
              "5         Cash                1  460550  20.042143\n",
              "6         Cash                2  155472   6.765806\n",
              "7         Cash                3   54506   2.371984\n",
              "8         Cash                4   32715   1.423686\n",
              "9         Cash                5   47626   2.072581"
            ]
          },
          "execution_count": 46,
          "metadata": {},
          "output_type": "execute_result"
        }
      ],
      "source": [
        "passenger_count"
      ]
    },
    {
      "cell_type": "markdown",
      "source": [
        "now we will create a datafram custom, to transform these values to plot the data into stacked bar chart on the base of column 1,2,3,4,5 which are passenger count"
      ],
      "metadata": {
        "id": "h1iTl70LiPi1"
      },
      "id": "h1iTl70LiPi1"
    },
    {
      "cell_type": "code",
      "execution_count": null,
      "id": "6974e320-53e8-4e58-8366-51946fb25cde",
      "metadata": {
        "id": "6974e320-53e8-4e58-8366-51946fb25cde"
      },
      "outputs": [],
      "source": [
        "passenger_count_df = pd.DataFrame(columns=['payment_type', 1, 2, 3, 4, 5])\n",
        "passenger_count_df['payment_type'] = ['Card', 'Cash']\n",
        "passenger_count_df.iloc[0, 1:] = passenger_count.iloc[0:5, -1]\n",
        "passenger_count_df.iloc[1, 1:] = passenger_count.iloc[5:, -1]\n"
      ]
    },
    {
      "cell_type": "markdown",
      "source": [
        "now are custom data frame is ready and now we will use this to form stacked bar chart"
      ],
      "metadata": {
        "id": "PxKmtz16jJWd"
      },
      "id": "PxKmtz16jJWd"
    },
    {
      "cell_type": "code",
      "execution_count": null,
      "id": "dVuK_Rzl2k0I",
      "metadata": {
        "colab": {
          "base_uri": "https://localhost:8080/",
          "height": 125
        },
        "id": "dVuK_Rzl2k0I",
        "outputId": "db97df93-ea63-4bef-9a29-bc95840ab3bf"
      },
      "outputs": [
        {
          "data": {
            "text/html": [
              "<div>\n",
              "<style scoped>\n",
              "    .dataframe tbody tr th:only-of-type {\n",
              "        vertical-align: middle;\n",
              "    }\n",
              "\n",
              "    .dataframe tbody tr th {\n",
              "        vertical-align: top;\n",
              "    }\n",
              "\n",
              "    .dataframe thead th {\n",
              "        text-align: right;\n",
              "    }\n",
              "</style>\n",
              "<table border=\"1\" class=\"dataframe\">\n",
              "  <thead>\n",
              "    <tr style=\"text-align: right;\">\n",
              "      <th></th>\n",
              "      <th>payment_type</th>\n",
              "      <th>1</th>\n",
              "      <th>2</th>\n",
              "      <th>3</th>\n",
              "      <th>4</th>\n",
              "      <th>5</th>\n",
              "    </tr>\n",
              "  </thead>\n",
              "  <tbody>\n",
              "    <tr>\n",
              "      <th>0</th>\n",
              "      <td>Card</td>\n",
              "      <td>39.568381</td>\n",
              "      <td>14.2591</td>\n",
              "      <td>5.327106</td>\n",
              "      <td>2.771042</td>\n",
              "      <td>5.398171</td>\n",
              "    </tr>\n",
              "    <tr>\n",
              "      <th>1</th>\n",
              "      <td>Cash</td>\n",
              "      <td>20.042143</td>\n",
              "      <td>6.765806</td>\n",
              "      <td>2.371984</td>\n",
              "      <td>1.423686</td>\n",
              "      <td>2.072581</td>\n",
              "    </tr>\n",
              "  </tbody>\n",
              "</table>\n",
              "</div>"
            ],
            "text/plain": [
              "  payment_type          1         2         3         4         5\n",
              "0         Card  39.568381   14.2591  5.327106  2.771042  5.398171\n",
              "1         Cash  20.042143  6.765806  2.371984  1.423686  2.072581"
            ]
          },
          "execution_count": 48,
          "metadata": {},
          "output_type": "execute_result"
        }
      ],
      "source": [
        "passenger_count_df"
      ]
    },
    {
      "cell_type": "markdown",
      "source": [
        "this code will provide to stacked bar cahrt and also put the percentage of diff passenger count prefering cash and card"
      ],
      "metadata": {
        "id": "_SsSgJmmjNJ1"
      },
      "id": "_SsSgJmmjNJ1"
    },
    {
      "cell_type": "code",
      "execution_count": null,
      "id": "e6ff9e36-c96b-4b30-bf8c-ef25b0748a48",
      "metadata": {
        "colab": {
          "base_uri": "https://localhost:8080/",
          "height": 522
        },
        "id": "e6ff9e36-c96b-4b30-bf8c-ef25b0748a48",
        "outputId": "0a5e35c7-2567-463d-f510-d4be5f8624c5"
      },
      "outputs": [
        {
          "data": {
            "image/png": "[encoded data removed]",
            "text/plain": [
              "<Figure size 1000x600 with 1 Axes>"
            ]
          },
          "metadata": {},
          "output_type": "display_data"
        }
      ],
      "source": [
        "fig,ax= plt.subplots(figsize=(10,6))\n",
        "passenger_count_df.plot(x='payment_type',kind ='barh',stacked = True, ax= ax ,color = ['#FA643F','#FFBCAB','#CBB2B2','#F1F1F1','#FD9F1F'])\n",
        "\n",
        "for p in ax.patches:\n",
        "  width = p.get_width()\n",
        "  height = p.get_height()\n",
        "  x, y = p.get_xy()\n",
        "  ax.text(x + width/2,\n",
        "          y + height/2,\n",
        "          '{:.0f}%'.format(width),\n",
        "          horizontalalignment = 'center',\n",
        "          verticalalignment = 'center')\n"
      ]
    },
    {
      "cell_type": "code",
      "execution_count": null,
      "id": "wSv1K3pJ1Ore",
      "metadata": {
        "colab": {
          "base_uri": "https://localhost:8080/",
          "height": 112
        },
        "id": "wSv1K3pJ1Ore",
        "outputId": "02a38ead-7d19-4e71-936b-a5ab573db895"
      },
      "outputs": [
        {
          "data": {
            "text/html": [
              "<div>\n",
              "<style scoped>\n",
              "    .dataframe tbody tr th:only-of-type {\n",
              "        vertical-align: middle;\n",
              "    }\n",
              "\n",
              "    .dataframe tbody tr th {\n",
              "        vertical-align: top;\n",
              "    }\n",
              "\n",
              "    .dataframe thead th {\n",
              "        text-align: right;\n",
              "    }\n",
              "</style>\n",
              "<table border=\"1\" class=\"dataframe\">\n",
              "  <thead>\n",
              "    <tr style=\"text-align: right;\">\n",
              "      <th></th>\n",
              "      <th>passenger_count</th>\n",
              "      <th>payment_type</th>\n",
              "      <th>fare_amount</th>\n",
              "      <th>trip_distance</th>\n",
              "      <th>duration</th>\n",
              "    </tr>\n",
              "  </thead>\n",
              "  <tbody>\n",
              "    <tr>\n",
              "      <th>0</th>\n",
              "      <td>1</td>\n",
              "      <td>Card</td>\n",
              "      <td>6.0</td>\n",
              "      <td>1.20</td>\n",
              "      <td>4.800000</td>\n",
              "    </tr>\n",
              "    <tr>\n",
              "      <th>1</th>\n",
              "      <td>1</td>\n",
              "      <td>Card</td>\n",
              "      <td>7.0</td>\n",
              "      <td>1.20</td>\n",
              "      <td>7.416667</td>\n",
              "    </tr>\n",
              "    <tr>\n",
              "      <th>2</th>\n",
              "      <td>1</td>\n",
              "      <td>Card</td>\n",
              "      <td>6.0</td>\n",
              "      <td>0.60</td>\n",
              "      <td>6.183333</td>\n",
              "    </tr>\n",
              "    <tr>\n",
              "      <th>3</th>\n",
              "      <td>1</td>\n",
              "      <td>Card</td>\n",
              "      <td>5.5</td>\n",
              "      <td>0.80</td>\n",
              "      <td>4.850000</td>\n",
              "    </tr>\n",
              "    <tr>\n",
              "      <th>5</th>\n",
              "      <td>1</td>\n",
              "      <td>Cash</td>\n",
              "      <td>2.5</td>\n",
              "      <td>0.03</td>\n",
              "      <td>0.883333</td>\n",
              "    </tr>\n",
              "  </tbody>\n",
              "</table>\n",
              "</div>"
            ],
            "text/plain": [
              "   passenger_count payment_type  fare_amount  trip_distance  duration\n",
              "0                1         Card          6.0           1.20  4.800000\n",
              "1                1         Card          7.0           1.20  7.416667\n",
              "2                1         Card          6.0           0.60  6.183333\n",
              "3                1         Card          5.5           0.80  4.850000\n",
              "5                1         Cash          2.5           0.03  0.883333"
            ]
          },
          "execution_count": 51,
          "metadata": {},
          "output_type": "execute_result"
        }
      ],
      "source": [
        "df.head()"
      ]
    },
    {
      "cell_type": "markdown",
      "source": [
        "now we have done statistics and our project we did analysis of the problem statement but now we need to prove that people use card payment type more, but to proof this we need to perform hypothesis testig."
      ],
      "metadata": {
        "id": "HdvD3EMLj09i"
      },
      "id": "HdvD3EMLj09i"
    },
    {
      "cell_type": "markdown",
      "source": [
        "now below are null and alternate hypothesis frame\n",
        "\n",
        "null hyppo- No = there is no average differnece between person who use cash payment type or card\n",
        "\n",
        "alternate hypo -N1 = there is average differnece between person who use cash payment type or card"
      ],
      "metadata": {
        "id": "JGZYNgKvkNd_"
      },
      "id": "JGZYNgKvkNd_"
    },
    {
      "cell_type": "markdown",
      "source": [
        "now we have two samples two independent sample whose mean ,avg etc\n",
        "\n",
        "1- customers who pay by card\n",
        "\n",
        "2- customers who pay by cash\n",
        "\n",
        "now we have to decide which test/method we should use to do hypothesis\n",
        "\n",
        "we have fare amount , which is continuous value so chi-square cannot be performed\n",
        "\n",
        "anova also cannot be used because it is used when we have more then two groups to compare\n",
        "\n",
        "so we left with z-test and t-test\n",
        "\n",
        "for z test ,it require large data set,population std should be known and data should standard normal distributed\n",
        "\n",
        "we dont know population std because we have only few customer data\n",
        "\n",
        "so we know will check that data is standard normal distribution or not usig qqplot(quantile quantile plot)"
      ],
      "metadata": {
        "id": "cQ6aGvXdlIYm"
      },
      "id": "cQ6aGvXdlIYm"
    },
    {
      "cell_type": "code",
      "execution_count": null,
      "id": "9Wx0a5Uauew2",
      "metadata": {
        "colab": {
          "base_uri": "https://localhost:8080/",
          "height": 449
        },
        "id": "9Wx0a5Uauew2",
        "outputId": "ad4b39ae-630b-493c-d56d-0acca26c614e",
        "scrolled": true
      },
      "outputs": [
        {
          "data": {
            "image/png": "[encoded data removed]",
            "text/plain": [
              "<Figure size 640x480 with 1 Axes>"
            ]
          },
          "execution_count": 58,
          "metadata": {},
          "output_type": "execute_result"
        },
        {
          "data": {
            "image/png": "[encoded data removed]",
            "text/plain": [
              "<Figure size 640x480 with 1 Axes>"
            ]
          },
          "metadata": {},
          "output_type": "display_data"
        }
      ],
      "source": [
        "sm.qqplot(df['fare_amount'], line = '45')"
      ]
    },
    {
      "cell_type": "markdown",
      "source": [
        "we can see we did qq plot,we can see that data points did not align with the sraight line which means fare amount is not standard normally distributed"
      ],
      "metadata": {
        "id": "708v-UM5nKkv"
      },
      "id": "708v-UM5nKkv"
    },
    {
      "cell_type": "markdown",
      "source": [
        "so it results that we need to use T-test, as t-test is used when we have small dataset and population standard deviation is also not there"
      ],
      "metadata": {
        "id": "TnbLr1bZnuZ3"
      },
      "id": "TnbLr1bZnuZ3"
    },
    {
      "cell_type": "markdown",
      "source": [
        "now we will make sample for t-test"
      ],
      "metadata": {
        "id": "gEXlZf-yoJJl"
      },
      "id": "gEXlZf-yoJJl"
    },
    {
      "cell_type": "code",
      "execution_count": null,
      "id": "gMhX17eveyVq",
      "metadata": {
        "id": "gMhX17eveyVq"
      },
      "outputs": [],
      "source": [
        "card_sample = df[df['payment_type']== 'Card']['fare_amount']\n",
        "cash_sample = df[df['payment_type']== 'Cash']['fare_amount']"
      ]
    },
    {
      "cell_type": "markdown",
      "source": [
        "now we will use t-test formula for the test"
      ],
      "metadata": {
        "id": "FvDvVew8odnn"
      },
      "id": "FvDvVew8odnn"
    },
    {
      "cell_type": "code",
      "execution_count": null,
      "id": "pV3XlLjZhAAE",
      "metadata": {
        "colab": {
          "base_uri": "https://localhost:8080/"
        },
        "id": "pV3XlLjZhAAE",
        "outputId": "b4e742c3-ef84-4d5d-9f88-1912b43becd5"
      },
      "outputs": [
        {
          "name": "stdout",
          "output_type": "stream",
          "text": [
            "T statistics 169.2111527245052 p_value 0.0\n"
          ]
        }
      ],
      "source": [
        "t_stats, p_value = st.ttest_ind(a=card_sample,b=cash_sample, equal_var = False)\n",
        "print('T statistics',t_stats,'p_value',p_value)"
      ]
    },
    {
      "cell_type": "markdown",
      "source": [
        "now e can easily see that value of t-stat is 169 and p_value is 0.0\n",
        "\n",
        "means there is so much significance difference we are taking significan diff value 0.05\n",
        "\n",
        "and our value is 0.0 which is less than 0.5\n",
        "\n",
        "\n",
        "\n",
        "T-statistic = 169.21: This is the calculated value of the t-statistic, which represents how many standard deviations your sample mean is away from the null hypothesis mean. A high t-statistic like this (169.21) suggests that there is a very large difference between the sample mean and the hypothesized population mean, relative to the variability in your data.\n",
        "\n",
        "\n",
        "p-value = 0.0: The p-value represents the probability of observing your data (or something more extreme) if the null hypothesis is true. A p-value of 0.0 (or extremely close to 0) means that the observed data is very unlikely under the null hypothesis. In practical terms, this indicates that you can reject the null hypothesis with a very high level of confidence.\n",
        "\n",
        "\n",
        "\n",
        "which means we will reject null hypothesis\n",
        "and we will accept alternate hypothesis\n",
        "which is   =====there is average differnece between person who use cash payment type or card==\n",
        "\n"
      ],
      "metadata": {
        "id": "7BUBlVPUomOL"
      },
      "id": "7BUBlVPUomOL"
    },
    {
      "cell_type": "code",
      "execution_count": null,
      "id": "49b3a2e0-7e4f-4f52-9b7e-d02ed8e2eac9",
      "metadata": {
        "id": "49b3a2e0-7e4f-4f52-9b7e-d02ed8e2eac9"
      },
      "outputs": [],
      "source": []
    }
  ],
  "metadata": {
    "colab": {
      "provenance": []
    },
    "kernelspec": {
      "display_name": "Python 3 (ipykernel)",
      "language": "python",
      "name": "python3"
    },
    "language_info": {
      "codemirror_mode": {
        "name": "ipython",
        "version": 3
      },
      "file_extension": ".py",
      "mimetype": "text/x-python",
      "name": "python",
      "nbconvert_exporter": "python",
      "pygments_lexer": "ipython3",
      "version": "3.11.7"
    }
  },
  "nbformat": 4,
  "nbformat_minor": 5
}